{
 "cells": [
  {
   "cell_type": "code",
   "execution_count": null,
   "id": "5a44c07f-79f2-42f1-8f2c-554844f691b4",
   "metadata": {},
   "outputs": [],
   "source": []
  },
  {
   "cell_type": "code",
   "execution_count": 1,
   "id": "63c26229-1ef2-42c8-b9e4-3b323ef695f0",
   "metadata": {},
   "outputs": [
    {
     "ename": "NameError",
     "evalue": "name 'printf' is not defined",
     "output_type": "error",
     "traceback": [
      "\u001b[0;31m---------------------------------------------------------------------------\u001b[0m",
      "\u001b[0;31mNameError\u001b[0m                                 Traceback (most recent call last)",
      "Cell \u001b[0;32mIn[1], line 2\u001b[0m\n\u001b[1;32m      1\u001b[0m a\u001b[38;5;241m=\u001b[39m\u001b[38;5;241m10\u001b[39m\n\u001b[0;32m----> 2\u001b[0m \u001b[43mprintf\u001b[49m(a)\n",
      "\u001b[0;31mNameError\u001b[0m: name 'printf' is not defined"
     ]
    }
   ],
   "source": [
    "a=10\n",
    "printf(a)\n"
   ]
  },
  {
   "cell_type": "code",
   "execution_count": null,
   "id": "a613cc49-d243-49e1-a94f-56d5a39c06d8",
   "metadata": {},
   "outputs": [],
   "source": []
  },
  {
   "cell_type": "code",
   "execution_count": 2,
   "id": "89027b15-e48e-420f-8aae-e53bb394ebb0",
   "metadata": {},
   "outputs": [
    {
     "name": "stdout",
     "output_type": "stream",
     "text": [
      "10\n"
     ]
    }
   ],
   "source": [
    "a=10\n",
    "print(a)\n"
   ]
  },
  {
   "cell_type": "code",
   "execution_count": 3,
   "id": "f15c8149-1921-468c-aebe-9d2c3c98caae",
   "metadata": {},
   "outputs": [],
   "source": [
    "number=10 "
   ]
  },
  {
   "cell_type": "code",
   "execution_count": 4,
   "id": "4601bc52-544a-48b7-92ea-2fcc8f01df6a",
   "metadata": {},
   "outputs": [
    {
     "data": {
      "text/plain": [
       "10"
      ]
     },
     "execution_count": 4,
     "metadata": {},
     "output_type": "execute_result"
    }
   ],
   "source": [
    "number"
   ]
  },
  {
   "cell_type": "code",
   "execution_count": 20,
   "id": "e1b5b5bc-5b35-483f-b90f-f04744364929",
   "metadata": {},
   "outputs": [
    {
     "name": "stdin",
     "output_type": "stream",
     "text": [
      " 46\n"
     ]
    }
   ],
   "source": [
    "age=int(input())\n",
    "if age>=18 and age<=45:\n",
    "    print(\"you are young blood\")"
   ]
  },
  {
   "cell_type": "code",
   "execution_count": 7,
   "id": "c93e5cc4-7987-44f9-adb0-f7f9a6785eb2",
   "metadata": {},
   "outputs": [
    {
     "name": "stdin",
     "output_type": "stream",
     "text": [
      "enter product price 1001\n"
     ]
    },
    {
     "name": "stdout",
     "output_type": "stream",
     "text": [
      "final price after 20% discount =   800.8000000000001\n"
     ]
    }
   ],
   "source": [
    "p_price=int(input(\"enter product price\"))\n",
    "if p_price>1000 :\n",
    "    f_price=0.8*p_price\n",
    "    print(\"final price after 20% discount =  \",f_price)\n",
    "else :\n",
    "    f_price=0.7*p_price\n",
    "    print(\"final price after 30% discount =  \",f_price)"
   ]
  },
  {
   "cell_type": "code",
   "execution_count": null,
   "id": "9bf7b00d-e725-4d3b-9b46-357c52c7b9b4",
   "metadata": {},
   "outputs": [],
   "source": [
    "p_price=int(input(\"enter product price\"))\n",
    "if p_price>3000 :\n",
    "    f_price=0.8*p_price\n",
    "    print(\"final price after 20% discount =  \",f_price)\n",
    "elif p_price>=2000 and p_price<=3000 :\n",
    "    f_price=0.7*p_price\n",
    "    print(\"final price after 30% discount =  \",f_price)\n",
    "else : \n",
    "    f_price=0.6*p_price\n",
    "    print(\"final price after 40% discount =  \",f_price)"
   ]
  },
  {
   "cell_type": "code",
   "execution_count": null,
   "id": "415c6f22-7eca-4ca5-8ece-0d333b40548f",
   "metadata": {},
   "outputs": [],
   "source": []
  }
 ],
 "metadata": {
  "kernelspec": {
   "display_name": "Python 3 (ipykernel)",
   "language": "python",
   "name": "python3"
  },
  "language_info": {
   "codemirror_mode": {
    "name": "ipython",
    "version": 3
   },
   "file_extension": ".py",
   "mimetype": "text/x-python",
   "name": "python",
   "nbconvert_exporter": "python",
   "pygments_lexer": "ipython3",
   "version": "3.10.8"
  }
 },
 "nbformat": 4,
 "nbformat_minor": 5
}

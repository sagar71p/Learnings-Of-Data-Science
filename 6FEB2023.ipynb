{
 "cells": [
  {
   "cell_type": "markdown",
   "id": "a8a8e09e-9e9e-4234-836f-2187c8122117",
   "metadata": {},
   "source": [
    "## 1 Question\n"
   ]
  },
  {
   "cell_type": "markdown",
   "id": "db87e038-7052-4b24-aee8-20c17a47d2ca",
   "metadata": {},
   "source": [
    " Create a function which will take a list as an argument and return the product of all the numbers  after creating a flat list. \n",
    "Use the below-given list as an argument for your function. \n",
    "list1 = [1,2,3,4, [44,55,66, True], False, (34,56,78,89,34), {1,2,3,3,2,1}, {1:34, \"key2\": [55, 67, 78, 89], 4: (45,  22, 61, 34)}, [56, 'data science'], 'Machine Learning'] \n",
    " \n"
   ]
  },
  {
   "cell_type": "markdown",
   "id": "99d0e342-379f-483c-818a-b92b066f7a7a",
   "metadata": {},
   "source": [
    "Ans: "
   ]
  },
  {
   "cell_type": "code",
   "execution_count": null,
   "id": "f91c5fe4-fb54-4601-abb0-ac0df865f5ec",
   "metadata": {},
   "outputs": [],
   "source": [
    "list1 = [1,2,3,4, [44,55,66, 'True'], 'False', (34,56,78,89,34), {1,2,3,3,2,1}, {1:34, \"key2\": [55, 67, 78, 89], 4: (45, 22, 61, 34)}, [56, 'data science'], 'Machine Learning']"
   ]
  },
  {
   "cell_type": "code",
   "execution_count": 21,
   "id": "6a7031ef-3b10-45c7-99b8-587c87a4537f",
   "metadata": {},
   "outputs": [
    {
     "name": "stdout",
     "output_type": "stream",
     "text": [
      "[1, 2, 3, 4, 44, 55, 66, True, False, 34, 56, 78, 89, 34, 1, 2, 3, 34, [55, 67, 78, 89], (45, 22, 61, 34), 56, 'data science', 'Machine Learning']\n",
      "19679733278309744640\n"
     ]
    }
   ],
   "source": [
    "def product_of_numbers(lst):\n",
    "    flattened = []\n",
    "    for item in lst:\n",
    "        if isinstance(item, (list, tuple, set)):\n",
    "            flattened.extend(item)\n",
    "        elif isinstance(item, dict):\n",
    "            flattened.extend(item.values())\n",
    "        else:\n",
    "            flattened.append(item)\n",
    "    print(flattened)\n",
    "    product = 1\n",
    "    for i in flattened:\n",
    "        if type(i)== int or type(i)==float:\n",
    "            product *= i\n",
    "    return product\n",
    "    \n",
    "\n",
    "result = product_of_numbers(list1)\n",
    "print(result)  "
   ]
  },
  {
   "cell_type": "markdown",
   "id": "2e3ed915-db30-4e06-a45f-3f737807515f",
   "metadata": {},
   "source": [
    "## 2 Question"
   ]
  },
  {
   "cell_type": "markdown",
   "id": "928058b1-7819-4f6c-9ff6-8a96119f6c41",
   "metadata": {},
   "source": [
    "Write a python program for encrypting a message sent to you by your friend. The logic of encryption  should be such that, for a the output should be z. For b, the output should be y. For c, the output should  be x respectively. Also, the whitespace should be replaced with a dollar sign. Keep the punctuation  marks unchanged. \n",
    "Input Sentence: I want to become a Data Scientist. \n",
    "Encrypt the above input sentence using the program you just created. \n",
    "Note: Convert the given input sentence into lowercase before encrypting. The final output should be  lowercase. \n"
   ]
  },
  {
   "cell_type": "code",
   "execution_count": 39,
   "id": "42b76194-96ec-4b4b-9715-d5359c7dda95",
   "metadata": {},
   "outputs": [
    {
     "name": "stdout",
     "output_type": "stream",
     "text": [
      "r$dzmg$gl$yvxlnv$z$wzgz$hxrvmgrhg.\n"
     ]
    }
   ],
   "source": [
    "def encrypt_mess(message):\n",
    "    message = message.lower()\n",
    "    mapping = {\n",
    "        'a': 'z',\n",
    "        'b': 'y',\n",
    "        'c': 'x',\n",
    "        'd': 'w',\n",
    "        'e': 'v',\n",
    "        'f': 'u',\n",
    "        'g': 't',\n",
    "        'h': 's',\n",
    "        'i': 'r',\n",
    "        'j': 'q',\n",
    "        'k': 'p',\n",
    "        'l': 'o',\n",
    "        'm': 'n',\n",
    "        'n': 'm',\n",
    "        'o': 'l',\n",
    "        'p': 'k',\n",
    "        'q': 'j',\n",
    "        'r': 'i',\n",
    "        's': 'h',\n",
    "        't': 'g',\n",
    "        'u': 'f',\n",
    "        'v': 'e',\n",
    "        'w': 'd',\n",
    "        'x': 'c',\n",
    "        'y': 'b',\n",
    "        'z': 'a'\n",
    "    }\n",
    "\n",
    "    message = message.replace(' ', '$')\n",
    "    encrypted_message = ''\n",
    "    for i in message :\n",
    "        if i in mapping :\n",
    "            encrypted_message += mapping[i]\n",
    "        else:\n",
    "            encrypted_message += i\n",
    "\n",
    "    return encrypted_message\n",
    "input_sentence = \"I want to become a Data Scientist.\"\n",
    "encrypted_sentence = encrypt_mess(input_sentence)\n",
    "print(encrypted_sentence)\n"
   ]
  },
  {
   "cell_type": "code",
   "execution_count": null,
   "id": "246fb9f0-87c0-4a2e-974f-406a18126960",
   "metadata": {},
   "outputs": [],
   "source": []
  }
 ],
 "metadata": {
  "kernelspec": {
   "display_name": "Python 3 (ipykernel)",
   "language": "python",
   "name": "python3"
  },
  "language_info": {
   "codemirror_mode": {
    "name": "ipython",
    "version": 3
   },
   "file_extension": ".py",
   "mimetype": "text/x-python",
   "name": "python",
   "nbconvert_exporter": "python",
   "pygments_lexer": "ipython3",
   "version": "3.10.8"
  }
 },
 "nbformat": 4,
 "nbformat_minor": 5
}

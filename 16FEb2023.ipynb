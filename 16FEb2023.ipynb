{
 "cells": [
  {
   "cell_type": "markdown",
   "id": "061cd987-fecd-43bf-b79a-e384eb43b018",
   "metadata": {},
   "source": [
    "What is a database? Differentiate between SQL and NoSQL databases.\n",
    "\n",
    "Ans : A database is a structured set of data that may be electronically stored, retrieved, managed, and updated. Databases can be used to store various types of information, such as customer data, financial transactions, or product inventories.\n",
    "\n",
    "SQL--Structured Query Language \n",
    "NoSQL--Not Only SQL, this two main types of databases.\n",
    "SQL databases are relational databases, which store data in tables with fixed columns and rows. SQL databases use a language called SQL to manipulate and retrieve data. SQL databases are commonly used for structured data, such as financial records, customer data, or inventory data. Examples of SQL databases include MySQL, Oracle, and SQL Server.\n",
    "\n",
    "NoSQL databases can handle a variety of unstructured or semi-structured data, including text, images, or videos. NoSQL databases use different models for data storage, such as document-oriented, key-value, or graph databases. Examples of NoSQL databases include MongoDB, Cassandra, and Amazon DynamoDB."
   ]
  },
  {
   "cell_type": "markdown",
   "id": "c3e18550-aad9-46e6-bb86-e11e5d4da872",
   "metadata": {},
   "source": [
    "## 2 Question"
   ]
  },
  {
   "cell_type": "markdown",
   "id": "54521fdb-427a-472e-a4bd-37add12ca244",
   "metadata": {},
   "source": [
    "What is DDL? Explain why CREATE, DROP, ALTER, and TRUNCATE are used with an example."
   ]
  },
  {
   "cell_type": "markdown",
   "id": "1ea95f87-a8ad-4e1b-af5d-97d72ed92505",
   "metadata": {},
   "source": [
    "DDL stands is Data Definition Language, and it is a subset of SQL that is used to create, modify, and delete database objects, such as tables, indexes, and views. DDL statements define the structure and organization of the data."
   ]
  },
  {
   "cell_type": "markdown",
   "id": "b9a7e596-82dd-4023-92e8-5deb2fd74b2c",
   "metadata": {},
   "source": [
    "The CREATE statement is used to create a new database object, such as a table, index, or view. "
   ]
  },
  {
   "cell_type": "markdown",
   "id": "6e390be5-f8a9-4b0d-8d2f-b9f85f3034e2",
   "metadata": {},
   "source": [
    "The DROP statement is used to delete an existing database object."
   ]
  },
  {
   "cell_type": "markdown",
   "id": "a3046cb8-10ac-4405-a4ab-23b8327d49e3",
   "metadata": {},
   "source": [
    "The ALTER statement is used to modify an existing database object."
   ]
  },
  {
   "cell_type": "markdown",
   "id": "db55ae2b-b5d3-4f92-96a2-779a8f050ebb",
   "metadata": {},
   "source": [
    "The TRUNCATE statement is used to delete all data from a table, but it does not delete the table itself."
   ]
  },
  {
   "cell_type": "code",
   "execution_count": null,
   "id": "9a742201-8b88-4d57-b83a-31545d0a1266",
   "metadata": {},
   "outputs": [],
   "source": [
    "CREATE TABLE employees (\n",
    "  id INT,\n",
    "  name VARCHAR(50),\n",
    "  salary FLOAT\n",
    ");\n"
   ]
  },
  {
   "cell_type": "code",
   "execution_count": null,
   "id": "1aa0f69e-1034-4d9a-9716-92517ac2efa0",
   "metadata": {},
   "outputs": [],
   "source": [
    "DROP TABLE employees;\n"
   ]
  },
  {
   "cell_type": "code",
   "execution_count": null,
   "id": "ed0a6d04-82c8-471a-9cb5-32dd09345d3a",
   "metadata": {},
   "outputs": [],
   "source": [
    "ALTER TABLE employees ADD COLUMN name varchar(100);\n"
   ]
  },
  {
   "cell_type": "code",
   "execution_count": null,
   "id": "a372a372-ee7b-42d0-9284-b9dc34b6ca9f",
   "metadata": {},
   "outputs": [],
   "source": [
    "TRUNCATE TABLE employees;\n"
   ]
  },
  {
   "cell_type": "markdown",
   "id": "0633f7a2-373e-494b-a185-ab7c3b9761dc",
   "metadata": {},
   "source": [
    "## 3 Question"
   ]
  },
  {
   "cell_type": "markdown",
   "id": "4405e071-826c-41f5-9834-f1ce5f09fccc",
   "metadata": {},
   "source": [
    "What is DML? Explain INSERT, UPDATE, and DELETE with an example."
   ]
  },
  {
   "cell_type": "markdown",
   "id": "b6c57e2d-4bc0-4e85-8231-b9319c4264ec",
   "metadata": {},
   "source": [
    "Ans: DML stands for Data Manipulation Language, and it is a subset of SQL that is used to insert, update, and delete data in a database. DML statements are used to modify the data stored in tables, "
   ]
  },
  {
   "cell_type": "code",
   "execution_count": null,
   "id": "9c1dab22-8565-4ea8-9890-2c523d7d01a1",
   "metadata": {},
   "outputs": [],
   "source": [
    "The INSERT statement is used to add new data to a table."
   ]
  },
  {
   "cell_type": "code",
   "execution_count": null,
   "id": "baf66831-6ab0-4222-8b06-497bd7ca9b4f",
   "metadata": {},
   "outputs": [],
   "source": [
    "INSERT INTO sagardata (roll, name, salary)\n",
    "VALUES (1, 'sagar p', 40000);\n"
   ]
  },
  {
   "cell_type": "code",
   "execution_count": null,
   "id": "bafb3926-7d91-4651-ad1c-d056ec6d0ce3",
   "metadata": {},
   "outputs": [],
   "source": [
    "The UPDATE statement is used to modify existing data in a table."
   ]
  },
  {
   "cell_type": "code",
   "execution_count": null,
   "id": "a949262e-bfe7-451e-8e11-88bf65cfdb69",
   "metadata": {},
   "outputs": [],
   "source": [
    "UPDATE sagardata SET salary = 55000 WHERE roll = 1;\n"
   ]
  },
  {
   "cell_type": "code",
   "execution_count": null,
   "id": "71b5f222-e199-4473-aa61-a0e1ea575bf1",
   "metadata": {},
   "outputs": [],
   "source": [
    "The DELETE statement is used to delete existing data from a table."
   ]
  },
  {
   "cell_type": "code",
   "execution_count": null,
   "id": "dbecc395-125e-4872-8719-a6dd45a9bf30",
   "metadata": {},
   "outputs": [],
   "source": [
    "DELETE FROM sagardata WHERE roll = 1;\n"
   ]
  },
  {
   "cell_type": "markdown",
   "id": "bf78f29a-cfe9-418f-ade4-3a03d3fb56bc",
   "metadata": {},
   "source": [
    "## 4 Question"
   ]
  },
  {
   "cell_type": "markdown",
   "id": "fc15f788-6092-41c3-9584-07ddafb00da5",
   "metadata": {},
   "source": [
    "What is DQL? Explain SELECT with an example."
   ]
  },
  {
   "cell_type": "markdown",
   "id": "35ae0362-8018-479b-9a92-eaecdba3c602",
   "metadata": {},
   "source": [
    "DQL stands for Data Query Language, and it is a subset of SQL that is used to retrieve data from a database. DQL statements are used to query the data stored in tables."
   ]
  },
  {
   "cell_type": "markdown",
   "id": "d83c4237-4a28-478c-aff7-af0f056dbfaa",
   "metadata": {},
   "source": [
    " here SELECT statement to retrieve all the data from the \"sagardata\" table"
   ]
  },
  {
   "cell_type": "code",
   "execution_count": null,
   "id": "629f004a-0cd0-4a34-b52a-392f6af0045c",
   "metadata": {},
   "outputs": [],
   "source": [
    "SELECT * FROM sagardata;"
   ]
  },
  {
   "cell_type": "markdown",
   "id": "ccbce883-4d21-4147-814f-f238758b5cea",
   "metadata": {},
   "source": [
    "## 5 Question"
   ]
  },
  {
   "cell_type": "code",
   "execution_count": null,
   "id": "a9afd1af-6f28-4eb9-82e9-8dd1e0578dbc",
   "metadata": {},
   "outputs": [],
   "source": [
    "Explain Primary Key and Foreign Key."
   ]
  },
  {
   "cell_type": "markdown",
   "id": "a5f3beb9-ec67-4643-89cf-c59f15936bb8",
   "metadata": {},
   "source": [
    "Ans : In a relational database, a primary key is a column or a set of columns that uniquely identifies each record in a table. A primary key must be unique and cannot contain null values."
   ]
  },
  {
   "cell_type": "markdown",
   "id": "89402e8a-69e6-46b7-83dc-a82440afecef",
   "metadata": {},
   "source": [
    "A foreign key, on the other hand, is a column or a set of columns in one table that refers to the primary key of another table. It is used to establish a link between the two tables. \n",
    "The purpose of a foreign key is to ensure referential integrity, which means that the values in the foreign key column must match the values in the primary key column of the referenced table."
   ]
  },
  {
   "cell_type": "markdown",
   "id": "6cc4fccd-c8e2-402e-a0a5-7578ec0469a1",
   "metadata": {},
   "source": [
    "## 6 Question"
   ]
  },
  {
   "cell_type": "code",
   "execution_count": null,
   "id": "dfe81e71-a1ba-4337-9c2f-1145bda2beca",
   "metadata": {},
   "outputs": [],
   "source": [
    "Write a python code to connect MySQL to python. Explain the cursor() and execute() method."
   ]
  },
  {
   "cell_type": "code",
   "execution_count": null,
   "id": "824e0de9-cec2-4520-83c6-d6e0a36f1ac5",
   "metadata": {},
   "outputs": [],
   "source": [
    "import mysql.connector\n",
    "mydb = mysql.connector.connect(\n",
    "  host=\"localhost\",\n",
    "  user=\"abc\",\n",
    "  password=\"password\"\n",
    ")\n",
    "mycursor = mydb.cursor()\n",
    "mycursor.execute(\"select * from test2.test_table\")\n",
    "for i in mycursor.fetchall() :\n",
    "    print(i)"
   ]
  },
  {
   "cell_type": "markdown",
   "id": "564d08ed-81b5-4f62-a46e-5e6cb70386a7",
   "metadata": {},
   "source": [
    "cursor() method is used to create a cursor object, which is used to execute SQL queries on a MySQL database. The execute() method is used to execute SQL queries on the database."
   ]
  },
  {
   "cell_type": "markdown",
   "id": "4ebd10d7-e3a6-490c-950c-ea1eaac3eeb5",
   "metadata": {},
   "source": [
    "## 7 Question"
   ]
  },
  {
   "cell_type": "markdown",
   "id": "15def744-2e12-47eb-95d5-fe90f812bc29",
   "metadata": {},
   "source": [
    "Give the order of execution of SQL clauses in an SQL query."
   ]
  },
  {
   "cell_type": "code",
   "execution_count": 2,
   "id": "118f7f47-6958-4836-b649-512303d49ea6",
   "metadata": {},
   "outputs": [
    {
     "ename": "SyntaxError",
     "evalue": "invalid syntax (1902727840.py, line 1)",
     "output_type": "error",
     "traceback": [
      "\u001b[0;36m  Cell \u001b[0;32mIn[2], line 1\u001b[0;36m\u001b[0m\n\u001b[0;31m    Ans:\u001b[0m\n\u001b[0m        ^\u001b[0m\n\u001b[0;31mSyntaxError\u001b[0m\u001b[0;31m:\u001b[0m invalid syntax\n"
     ]
    }
   ],
   "source": [
    "Ans:"
   ]
  },
  {
   "cell_type": "markdown",
   "id": "98db30dc-bc91-4f53-bd32-8e8cc8fe98a7",
   "metadata": {},
   "source": [
    "The order of execution of SQL clauses in an SQL query is:\n",
    "\n",
    "FROM clause: Specifies the table(s) from which to select the data.\n",
    "\n",
    "WHERE clause: Filters the rows based on a specified condition.\n",
    "\n",
    "GROUP BY clause: Groups the rows based on one or more columns.\n",
    "\n",
    "HAVING clause: Filters the groups based on a specified condition.\n",
    "\n",
    "SELECT clause: Specifies the columns to be included in the result set.\n",
    "\n",
    "ORDER BY clause: Sorts the result set based on one or more columns.\n",
    "\n",
    "LIMIT/OFFSET clause: Limits the number of rows returned by the query."
   ]
  }
 ],
 "metadata": {
  "kernelspec": {
   "display_name": "Python 3 (ipykernel)",
   "language": "python",
   "name": "python3"
  },
  "language_info": {
   "codemirror_mode": {
    "name": "ipython",
    "version": 3
   },
   "file_extension": ".py",
   "mimetype": "text/x-python",
   "name": "python",
   "nbconvert_exporter": "python",
   "pygments_lexer": "ipython3",
   "version": "3.10.8"
  }
 },
 "nbformat": 4,
 "nbformat_minor": 5
}

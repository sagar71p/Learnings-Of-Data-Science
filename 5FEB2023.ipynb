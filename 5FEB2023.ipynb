{
 "cells": [
  {
   "cell_type": "markdown",
   "id": "7e8e7f4b-a807-4c54-a68d-82f165bc68e2",
   "metadata": {},
   "source": [
    "## 1 Question"
   ]
  },
  {
   "cell_type": "markdown",
   "id": "9daaa65a-5009-43b5-9b92-8f09536e47f1",
   "metadata": {},
   "source": [
    " Explain Class and Object with respect to Object-Oriented Programming. Give a suitable example."
   ]
  },
  {
   "cell_type": "markdown",
   "id": "4ac01052-1ddc-4df1-8392-904886a96762",
   "metadata": {},
   "source": [
    "class is a template that defines properties and method of object , while object is created at the runtime.\n",
    "class defiend by class keyword in python.\n"
   ]
  },
  {
   "cell_type": "markdown",
   "id": "74cd1f1c-8f88-4676-85bc-ad73dc0997af",
   "metadata": {},
   "source": [
    "Example : "
   ]
  },
  {
   "cell_type": "code",
   "execution_count": 10,
   "id": "3a42e8d5-2df3-41a6-869e-8a14443ed9bc",
   "metadata": {},
   "outputs": [
    {
     "name": "stdout",
     "output_type": "stream",
     "text": [
      "283415\n"
     ]
    }
   ],
   "source": [
    "class school : \n",
    "    def __init__(self,name, area, pincode):\n",
    "        self.name = name\n",
    "        self.area = area\n",
    "        self.pincode = pincode\n",
    "taxshila = school('taxshila', 'naroda',382415)\n",
    "pj = school('pj','odhav',283415) \n",
    "print(pj.pincode)"
   ]
  },
  {
   "cell_type": "markdown",
   "id": "522a6639-b2d7-4872-ae5d-20ef68b754bb",
   "metadata": {},
   "source": [
    "## 2 Question"
   ]
  },
  {
   "cell_type": "markdown",
   "id": "4b16484e-194d-41be-8b60-24401dfb44e7",
   "metadata": {},
   "source": [
    " Name the four pillars of OOPs. \n"
   ]
  },
  {
   "cell_type": "markdown",
   "id": "a1c978c2-732d-486d-9063-01300ec3ba70",
   "metadata": {},
   "source": [
    "Ans : 1.Encapsulation, 2.Inheritance, 3.Polymorphism, 4.Abstraction"
   ]
  },
  {
   "cell_type": "markdown",
   "id": "631aa918-0470-4de2-a0bd-ac44b71b8526",
   "metadata": {},
   "source": [
    "## 3 Question\n"
   ]
  },
  {
   "cell_type": "markdown",
   "id": "064eb54d-85b4-44ce-8291-3148db498188",
   "metadata": {},
   "source": [
    " Explain why the __init__() function is used. Give a suitable example. "
   ]
  },
  {
   "cell_type": "markdown",
   "id": "80d9d346-dd7c-4977-8cd9-d768c1e69658",
   "metadata": {},
   "source": [
    "Ans: It is used to initialize the object properties & automatically called when the object is activaited & also used to set the  object attributes."
   ]
  },
  {
   "cell_type": "code",
   "execution_count": 1,
   "id": "3400b8e7-b0d8-4297-94c9-00b58b018496",
   "metadata": {},
   "outputs": [
    {
     "name": "stdout",
     "output_type": "stream",
     "text": [
      "283415\n"
     ]
    }
   ],
   "source": [
    "class school : \n",
    "    def __init__(self,name, area, pincode):\n",
    "        self.name = name\n",
    "        self.area = area\n",
    "        self.pincode = pincode\n",
    "taxshila = school('taxshila', 'naroda',382415)\n",
    "pj = school('pj','odhav',283415) \n",
    "print(pj.pincode)"
   ]
  },
  {
   "cell_type": "markdown",
   "id": "6286db32-1b12-4ac1-9297-f5c0f537a327",
   "metadata": {},
   "source": [
    "## 4 Question"
   ]
  },
  {
   "cell_type": "markdown",
   "id": "e12c8661-848b-444e-a4b0-74a230d63889",
   "metadata": {},
   "source": [
    "Why self is used in OOPs? "
   ]
  },
  {
   "cell_type": "markdown",
   "id": "af48fc22-afd5-431f-9f57-41a3b3fcadb4",
   "metadata": {},
   "source": [
    "Ans: In OOPs the self is used to refer the current object instance. It allows the object to refer to its own instance variables and methods, as well as to interact with other objects in the program. "
   ]
  },
  {
   "cell_type": "markdown",
   "id": "bc1bd78d-1be3-4c6c-a279-ea1f5156b669",
   "metadata": {},
   "source": [
    "## 5 Question"
   ]
  },
  {
   "cell_type": "markdown",
   "id": "82f421e8-fcb7-49aa-98be-98c3c49f37fe",
   "metadata": {},
   "source": [
    " What is inheritance? Give an example for each type of inheritance. "
   ]
  },
  {
   "cell_type": "markdown",
   "id": "c3daccc4-0990-4adb-8c4c-5f953bb542e9",
   "metadata": {},
   "source": [
    "Inheritance is a key concept in object-oriented programming (OOP) that allows a new class to be based on an existing class, inheriting its properties and methods. The existing class is called the \"parent\" or \"superclass,\" and the new class is called the \"child\" or \"subclass.\" Here are the main types of inheritance and an example for each:\n",
    "\n",
    "1.Single Inheritance: In single inheritance, a subclass inherits properties and methods from a single parent class. For example, a class \"Car\" can be the parent class and a class \"Sedan\" can be the child class, inheriting properties and methods from \"Car\".\n",
    "\n",
    "2.Multilevel Inheritance: In multilevel inheritance, a subclass is derived from a parent class, which itself is derived from another parent class. For example, a class \"Animal\" can be the parent class, a class \"Mammal\" can inherit from \"Animal\", and a class \"Cat\" can inherit from \"Mammal\", inheriting properties and methods from all of its parent classes.\n",
    "\n",
    "3.Hierarchical Inheritance: In hierarchical inheritance, multiple child classes inherit from a single parent class. For example, a class \"Vehicle\" can be the parent class, and classes \"Car\", \"Bus\", and \"Truck\" can be child classes, all inheriting properties and methods from \"Vehicle\".\n",
    "\n",
    "4.Multiple Inheritance: In multiple inheritance, a subclass inherits properties and methods from multiple parent classes. For example, a class \"Bird\" can inherit properties and methods from both \"Animal\" and \"Flyable\" parent classes, allowing it to exhibit behavior and characteristics of both parent classes. Note that multiple inheritance can be complex and is not supported by all programming languages"
   ]
  }
 ],
 "metadata": {
  "kernelspec": {
   "display_name": "Python 3 (ipykernel)",
   "language": "python",
   "name": "python3"
  },
  "language_info": {
   "codemirror_mode": {
    "name": "ipython",
    "version": 3
   },
   "file_extension": ".py",
   "mimetype": "text/x-python",
   "name": "python",
   "nbconvert_exporter": "python",
   "pygments_lexer": "ipython3",
   "version": "3.10.8"
  }
 },
 "nbformat": 4,
 "nbformat_minor": 5
}

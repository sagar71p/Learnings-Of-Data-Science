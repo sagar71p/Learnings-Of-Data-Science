{
 "cells": [
  {
   "cell_type": "markdown",
   "id": "0b531ebc-1083-4718-84c8-246840c0cf75",
   "metadata": {},
   "source": [
    "## 1 Question"
   ]
  },
  {
   "cell_type": "markdown",
   "id": "bbb2a1e8-b61f-4847-9290-3d9d7c184fa8",
   "metadata": {},
   "source": [
    "Q1. What is exception in python? write the difference between exception and syntax errors."
   ]
  },
  {
   "cell_type": "markdown",
   "id": "3e398fdd-3c9c-4faf-b775-1ffb57c63e42",
   "metadata": {},
   "source": [
    "In Python, an exception is an error that occurs during the execution of a program. Exceptions are raised when something goes wrong in a program, such as when there is an invalid input or an operation is attempted on a data type that is not supported.\n",
    "\n",
    "Unlike syntax errors, which occur when there is a problem with the syntax of the code, exceptions can occur even if the code is syntactically correct. Syntax errors prevent the program from running, while exceptions occur during program execution.\n",
    "\n",
    "Here are some key differences between syntax errors and exceptions in Python:\n",
    "\n",
    "1.Syntax errors occur before the program runs, while exceptions occur during program execution.\n",
    "2.Syntax errors are caused by problems with the code syntax, while exceptions are caused by errors in program logic.\n",
    "3.Syntax errors are easy to identify because they typically cause the program to fail to run, while exceptions are more difficult to identify because they can occur at different points during program execution.\n",
    "4.Syntax errors can often be fixed by correcting the code syntax, while exceptions may require changes to program logic or input."
   ]
  },
  {
   "cell_type": "markdown",
   "id": "5efc4098-9829-4986-a989-ddd580f45200",
   "metadata": {},
   "source": [
    "## 2 Question"
   ]
  },
  {
   "cell_type": "markdown",
   "id": "ed65ce3f-0d7b-413a-b9c1-83b93ccd46c8",
   "metadata": {},
   "source": [
    "What happens when an exception is not handled? explain with the example.\n"
   ]
  },
  {
   "cell_type": "markdown",
   "id": "5483be14-d802-4777-a501-471eb88e4c8e",
   "metadata": {},
   "source": [
    "Ans: When an exception is not handled in a Python program, it causes the program to terminate and an error message is printed to the console. This can be problematic because it means that the program will not be able to complete its intended functionality, and any data or changes made to the program up until the point of the exception may be lost."
   ]
  },
  {
   "cell_type": "code",
   "execution_count": 6,
   "id": "1a398faf-89b0-41bd-b9f8-9ded294d90eb",
   "metadata": {},
   "outputs": [
    {
     "name": "stdin",
     "output_type": "stream",
     "text": [
      "Enter the number:  10\n"
     ]
    },
    {
     "name": "stdout",
     "output_type": "stream",
     "text": [
      "1.0\n"
     ]
    }
   ],
   "source": [
    "try:\n",
    "    x = int(input(\"Enter the number: \"))\n",
    "    v = 10 / x\n",
    "    print(v)\n",
    "except ValueError:\n",
    "    print(\"Invalid input\")"
   ]
  },
  {
   "cell_type": "markdown",
   "id": "b674c8c4-d4d1-4113-9ba9-32b246262564",
   "metadata": {},
   "source": [
    "if we enter zero then zerodivisionerror exception occur and this can not be handled by program and terminate."
   ]
  },
  {
   "cell_type": "markdown",
   "id": "96360564-9504-4ef8-aeb0-98cdfdc6866c",
   "metadata": {},
   "source": [
    "## 3 Question"
   ]
  },
  {
   "cell_type": "markdown",
   "id": "6aa761f2-193e-4ba6-9682-b81357421165",
   "metadata": {},
   "source": [
    "which python statements are used to catch and handle exception? Explain with the example."
   ]
  },
  {
   "cell_type": "markdown",
   "id": "2883ab0e-6bdf-44d5-b1d9-0460289e4c00",
   "metadata": {},
   "source": [
    "In Python, the try and except statements are used to catch and handle exceptions. The try statement is used to enclose the code that may raise an exception, while the except statement is used to handle the exception if it occurs."
   ]
  },
  {
   "cell_type": "code",
   "execution_count": 8,
   "id": "05d4988b-a671-4a4b-afe7-59202dae8741",
   "metadata": {},
   "outputs": [
    {
     "name": "stdin",
     "output_type": "stream",
     "text": [
      "Enter the number:  0\n"
     ]
    },
    {
     "name": "stdout",
     "output_type": "stream",
     "text": [
      "Cannot divide by zero\n"
     ]
    }
   ],
   "source": [
    "try:\n",
    "    x = int(input(\"Enter the number: \"))\n",
    "    v = 10 / x\n",
    "    print(v)\n",
    "except ValueError:\n",
    "    print(\"Invalid input\")\n",
    "except ZeroDivisionError:\n",
    "    print(\"Cannot divide by zero\")"
   ]
  },
  {
   "cell_type": "markdown",
   "id": "f54a7b17-f9ab-4e1f-aafd-952847ab149e",
   "metadata": {},
   "source": [
    "## 4 Question"
   ]
  },
  {
   "cell_type": "markdown",
   "id": "6d8a02e9-cb2a-4986-a88c-007db6e52b48",
   "metadata": {},
   "source": [
    "explain with an example:\n",
    "    a.try and else\n",
    "    b.finally\n",
    "    c.raise\n",
    "    "
   ]
  },
  {
   "cell_type": "markdown",
   "id": "e84bfdd0-9e8b-44b7-9b8b-99130578e080",
   "metadata": {},
   "source": [
    "Ans:a. if no exception is made then else block execute.\n"
   ]
  },
  {
   "cell_type": "code",
   "execution_count": 13,
   "id": "db4883e0-9e0f-4b2a-b085-445e4b050bc2",
   "metadata": {},
   "outputs": [
    {
     "name": "stdin",
     "output_type": "stream",
     "text": [
      "Enter a number:  10\n"
     ]
    },
    {
     "name": "stdout",
     "output_type": "stream",
     "text": [
      "The result is: 1.0\n"
     ]
    }
   ],
   "source": [
    "try:\n",
    "    x = int(input(\"Enter a number: \"))\n",
    "    y = 10 / x\n",
    "except ValueError:\n",
    "    print(\"Invalid input\")\n",
    "except ZeroDivisionError:\n",
    "    print(\"Cannot divide by zero\")\n",
    "else:\n",
    "    print(\"The result is:\", y)\n"
   ]
  },
  {
   "cell_type": "markdown",
   "id": "abf05358-7f67-441f-b01c-5a88a81e6a63",
   "metadata": {},
   "source": [
    "b.finally :The finally can be added to a try and except block in Python to define a block of code to be executed regardless of whether an exception was raised or not."
   ]
  },
  {
   "cell_type": "code",
   "execution_count": 15,
   "id": "5be37281-2fd4-4ef4-bde7-4ee7b056e310",
   "metadata": {},
   "outputs": [
    {
     "name": "stdin",
     "output_type": "stream",
     "text": [
      "Enter a number:  0\n"
     ]
    },
    {
     "name": "stdout",
     "output_type": "stream",
     "text": [
      "Cannot divide by zero\n",
      "The result is: 1.0\n"
     ]
    }
   ],
   "source": [
    "try:\n",
    "    x = int(input(\"Enter a number: \"))\n",
    "    y = 10 / x\n",
    "except ValueError:\n",
    "    print(\"Invalid input\")\n",
    "except ZeroDivisionError:\n",
    "    print(\"Cannot divide by zero\")\n",
    "finally:\n",
    "    print(\"The result is:\", y)"
   ]
  },
  {
   "cell_type": "markdown",
   "id": "2c085215-4f82-4d1f-b605-db648d4598e6",
   "metadata": {},
   "source": [
    "c.raise:The raise keyword can be used in Python to explicitly raise an exception.\n"
   ]
  },
  {
   "cell_type": "code",
   "execution_count": 30,
   "id": "f77426b9-3a9c-496b-8b63-e7403427612f",
   "metadata": {},
   "outputs": [],
   "source": [
    "def divide(x, y):\n",
    "    if y == 0:\n",
    "        raise ZeroDivisionError(\"Cannot divide by zero\")\n",
    "    else:\n",
    "        return x / y\n",
    "\n",
    "    try:\n",
    "        result = divide(10, 0)\n",
    "    except ZeroDivisionError as error:\n",
    "            print(error)\n",
    "    else:\n",
    "        print(result)"
   ]
  },
  {
   "cell_type": "code",
   "execution_count": 34,
   "id": "0680510b-88fc-4271-96f1-a173b3cd6c6b",
   "metadata": {},
   "outputs": [
    {
     "ename": "ZeroDivisionError",
     "evalue": "Cannot divide by zero",
     "output_type": "error",
     "traceback": [
      "\u001b[0;31m---------------------------------------------------------------------------\u001b[0m",
      "\u001b[0;31mZeroDivisionError\u001b[0m                         Traceback (most recent call last)",
      "Cell \u001b[0;32mIn[34], line 1\u001b[0m\n\u001b[0;32m----> 1\u001b[0m \u001b[43mdivide\u001b[49m\u001b[43m(\u001b[49m\u001b[38;5;241;43m10\u001b[39;49m\u001b[43m,\u001b[49m\u001b[38;5;241;43m0\u001b[39;49m\u001b[43m)\u001b[49m\n",
      "Cell \u001b[0;32mIn[30], line 3\u001b[0m, in \u001b[0;36mdivide\u001b[0;34m(x, y)\u001b[0m\n\u001b[1;32m      1\u001b[0m \u001b[38;5;28;01mdef\u001b[39;00m \u001b[38;5;21mdivide\u001b[39m(x, y):\n\u001b[1;32m      2\u001b[0m     \u001b[38;5;28;01mif\u001b[39;00m y \u001b[38;5;241m==\u001b[39m \u001b[38;5;241m0\u001b[39m:\n\u001b[0;32m----> 3\u001b[0m         \u001b[38;5;28;01mraise\u001b[39;00m \u001b[38;5;167;01mZeroDivisionError\u001b[39;00m(\u001b[38;5;124m\"\u001b[39m\u001b[38;5;124mCannot divide by zero\u001b[39m\u001b[38;5;124m\"\u001b[39m)\n\u001b[1;32m      4\u001b[0m     \u001b[38;5;28;01melse\u001b[39;00m:\n\u001b[1;32m      5\u001b[0m         \u001b[38;5;28;01mreturn\u001b[39;00m x \u001b[38;5;241m/\u001b[39m y\n",
      "\u001b[0;31mZeroDivisionError\u001b[0m: Cannot divide by zero"
     ]
    }
   ],
   "source": [
    "divide(10,0)"
   ]
  },
  {
   "cell_type": "markdown",
   "id": "d0731b70-6b58-426e-b67b-ff24504dc02d",
   "metadata": {},
   "source": [
    "## 4 Question"
   ]
  },
  {
   "cell_type": "markdown",
   "id": "d307e4a0-43a3-4983-a616-7208cca80f30",
   "metadata": {},
   "source": [
    "what are  the custom exception in python? why do we need custom exception? explain with an example."
   ]
  },
  {
   "cell_type": "markdown",
   "id": "429819ac-8924-4c27-b4df-4de73cb47d0c",
   "metadata": {},
   "source": [
    "Ans: custom exceptions can be defining new classes that inherit from the built-in Exception class or one of its subclasses. Custom exceptions allow us to define specific types of errors that can be raised in code and provide a more meaningful error message for the user."
   ]
  },
  {
   "cell_type": "code",
   "execution_count": null,
   "id": "27424d65-f5f5-443f-9803-a61303945640",
   "metadata": {},
   "outputs": [],
   "source": [
    "class InvaError(Exception):\n",
    "    pass\n",
    "\n",
    "def divide(x, y):\n",
    "    if y == 0:\n",
    "        raise ZeroDivisionError(\"Cannot divide by zero\")\n",
    "    elif x < 0 or y < 0:\n",
    "        raise InvaError(\"Inputs must be positive\")\n",
    "    else:\n",
    "        return x / y\n",
    "\n",
    "try:\n",
    "    result = divide(-10, 0)\n",
    "except ZeroDivisionError as error:\n",
    "    print(error)\n",
    "except InvaError as error:\n",
    "    print(error)\n",
    "else:\n",
    "    print(result)\n"
   ]
  },
  {
   "cell_type": "markdown",
   "id": "d46199f7-dbff-4550-9985-102b0ffeb361",
   "metadata": {},
   "source": [
    "## 5 Question"
   ]
  },
  {
   "cell_type": "markdown",
   "id": "26317f4e-b96c-49a0-985f-599a94fa94dc",
   "metadata": {},
   "source": [
    "Create a custom exception class .use this class to handle exception."
   ]
  },
  {
   "cell_type": "markdown",
   "id": "1723e191-79cd-40d1-9ab1-f6828b1bbf11",
   "metadata": {},
   "source": [
    "Ans:"
   ]
  },
  {
   "cell_type": "code",
   "execution_count": 14,
   "id": "021351cc-e6fa-4b84-a60c-a65f441f850f",
   "metadata": {},
   "outputs": [
    {
     "name": "stdout",
     "output_type": "stream",
     "text": [
      "CustomException: Something went wrong\n"
     ]
    }
   ],
   "source": [
    "class CustomException(Exception):\n",
    "    pass\n",
    "try:\n",
    "    \n",
    "    raise CustomException(\"Something went wrong\")\n",
    "except CustomException as e:\n",
    "    print(\"CustomException:\", e)\n"
   ]
  },
  {
   "cell_type": "code",
   "execution_count": null,
   "id": "83dba4ca-0344-4c02-9e10-e68cd00bf5f7",
   "metadata": {},
   "outputs": [],
   "source": []
  }
 ],
 "metadata": {
  "kernelspec": {
   "display_name": "Python 3 (ipykernel)",
   "language": "python",
   "name": "python3"
  },
  "language_info": {
   "codemirror_mode": {
    "name": "ipython",
    "version": 3
   },
   "file_extension": ".py",
   "mimetype": "text/x-python",
   "name": "python",
   "nbconvert_exporter": "python",
   "pygments_lexer": "ipython3",
   "version": "3.10.8"
  }
 },
 "nbformat": 4,
 "nbformat_minor": 5
}

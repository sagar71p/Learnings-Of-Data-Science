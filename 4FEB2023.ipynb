{
 "cells": [
  {
   "cell_type": "markdown",
   "id": "6bf15d24-f4b3-41d2-a7b3-c3579b14f5b5",
   "metadata": {},
   "source": [
    "## 1 Question"
   ]
  },
  {
   "cell_type": "markdown",
   "id": "cf9209a5-bc76-4b4d-a15e-6c947d29dc45",
   "metadata": {},
   "source": [
    "Create a python program to sort the given list of tuples based on integer value using a  lambda function.  \n",
    "[('Sachin Tendulkar', 34357), ('Ricky Ponting', 27483), ('Jack Kallis', 25534), ('Virat Kohli', 24936)] \n"
   ]
  },
  {
   "cell_type": "markdown",
   "id": "6f8e3227-57eb-491a-813c-9a45d6c119ef",
   "metadata": {},
   "source": [
    "Ans: \n"
   ]
  },
  {
   "cell_type": "code",
   "execution_count": 2,
   "id": "e0bc6437-3aca-4b6b-a844-1e8fce10bcce",
   "metadata": {},
   "outputs": [
    {
     "name": "stdout",
     "output_type": "stream",
     "text": [
      "[('Virat Kohli', 24936), ('Jack Kallis', 25534), ('Ricky Ponting', 27483), ('Sachin Tendulkar', 34357)]\n"
     ]
    }
   ],
   "source": [
    "i = [('Sachin Tendulkar', 34357), ('Ricky Ponting', 27483), ('Jack Kallis', 25534), ('Virat Kohli', 24936)]\n",
    "sort_i = sorted(i, key = lambda x:x[1])\n",
    "print(sort_i)"
   ]
  },
  {
   "cell_type": "markdown",
   "id": "0ed3f2eb-724c-4a5d-9ae5-3f098661b427",
   "metadata": {},
   "source": [
    "## 2 Question"
   ]
  },
  {
   "cell_type": "markdown",
   "id": "8ed7471c-8c08-449b-aac3-9679778bec8f",
   "metadata": {},
   "source": [
    " Write a Python Program to find the squares of all the numbers in the given list of integers using  lambda and map functions. \n",
    "[1, 2, 3, 4, 5, 6, 7, 8, 9, 10] \n"
   ]
  },
  {
   "cell_type": "markdown",
   "id": "9136c274-bd9c-44c1-9255-408f5a565fd7",
   "metadata": {},
   "source": [
    "Ans : "
   ]
  },
  {
   "cell_type": "code",
   "execution_count": 11,
   "id": "3f98da34-2627-4545-89fd-93e206175370",
   "metadata": {},
   "outputs": [
    {
     "name": "stdout",
     "output_type": "stream",
     "text": [
      "[1, 4, 9, 16, 25, 36, 49, 64, 81, 100]\n"
     ]
    }
   ],
   "source": [
    "l1=[1,2,3,4,5,6,7,8,9,10]\n",
    "squar = list(map(lambda x:x**2,l1)) \n",
    "print(squar)"
   ]
  },
  {
   "cell_type": "markdown",
   "id": "07ca6905-71e3-4b77-8380-219a24a5e8e6",
   "metadata": {},
   "source": [
    "## 3 Question"
   ]
  },
  {
   "cell_type": "markdown",
   "id": "1f7e6f10-52fb-4bca-bb51-a7c694b6a96d",
   "metadata": {},
   "source": [
    " Write a python program to convert the given list of integers into a tuple of strings. Use map and  lambda functions \n",
    "Given String: [1, 2, 3, 4, 5, 6, 7, 8, 9, 10] \n",
    "Expected output: ('1', '2', '3', '4', '5', '6', '7', '8', '9', '10') \n"
   ]
  },
  {
   "cell_type": "code",
   "execution_count": 12,
   "id": "212a3c80-6b0d-4155-a894-5afe895d3577",
   "metadata": {},
   "outputs": [
    {
     "name": "stdout",
     "output_type": "stream",
     "text": [
      "['1', '2', '3', '4', '5', '6', '7', '8', '9', '10']\n"
     ]
    }
   ],
   "source": [
    "l1 = [1,2,3,4,5,6,7,8,9,10]\n",
    "string_out = list(map(lambda x:str(x),l1))\n",
    "print(string_out)"
   ]
  },
  {
   "cell_type": "markdown",
   "id": "b80f0581-3bd8-4e17-a92e-c63c616234a7",
   "metadata": {},
   "source": [
    "## 4 Question"
   ]
  },
  {
   "cell_type": "markdown",
   "id": "a833a6c9-2c2f-4de4-a69f-eb6c17f7227b",
   "metadata": {},
   "source": [
    "Write a python program using reduce function to compute the product of a list containing numbers  from 1 to 25. \n"
   ]
  },
  {
   "cell_type": "code",
   "execution_count": 23,
   "id": "e7d37411-073c-4ded-8a85-2f2309454ea5",
   "metadata": {},
   "outputs": [
    {
     "name": "stdout",
     "output_type": "stream",
     "text": [
      "15511210043330985984000000\n"
     ]
    }
   ],
   "source": [
    "from functools import reduce\n",
    "l1 = list(range(1,26))\n",
    "pro = reduce(lambda x,y:x*y,l1)\n",
    "print(pro)"
   ]
  },
  {
   "cell_type": "markdown",
   "id": "be98e060-1951-4368-a970-402d08c4bd45",
   "metadata": {},
   "source": [
    "## 5 Question"
   ]
  },
  {
   "cell_type": "markdown",
   "id": "e17cecc8-39d2-400c-bc13-524555707e4b",
   "metadata": {},
   "source": [
    " Write a python program to filter the numbers in a given list that are divisible by 2 and 3 using the  filter function. \n",
    "[2, 3, 6, 9, 27, 60, 90, 120, 55, 46] \n"
   ]
  },
  {
   "cell_type": "code",
   "execution_count": 26,
   "id": "2e265b2c-24a5-4c74-a7d2-dffe0796c7c0",
   "metadata": {},
   "outputs": [
    {
     "name": "stdout",
     "output_type": "stream",
     "text": [
      "[6, 60, 90, 120]\n"
     ]
    }
   ],
   "source": [
    "l1 =  [2, 3, 6, 9, 27, 60, 90, 120, 55, 46]\n",
    "fil_fun = list(filter(lambda x: x%2==0 and x%3==0, l1))\n",
    "print(fil_fun)"
   ]
  },
  {
   "cell_type": "markdown",
   "id": "de5b57ed-5e95-42ca-8d3b-ae5199ea2e47",
   "metadata": {},
   "source": [
    "## 6 Question"
   ]
  },
  {
   "cell_type": "markdown",
   "id": "c418caeb-cd8a-4678-ad6b-be79b1507086",
   "metadata": {},
   "source": [
    " Write a python program to find palindromes in the given list of strings using lambda and filter  function. \n",
    "['python', 'php', 'aba', 'radar', 'level'] \n"
   ]
  },
  {
   "cell_type": "code",
   "execution_count": 28,
   "id": "d01f5f27-4009-4cb2-975f-058686fab841",
   "metadata": {},
   "outputs": [
    {
     "name": "stdout",
     "output_type": "stream",
     "text": [
      "['php', 'aba', 'radar', 'level']\n"
     ]
    }
   ],
   "source": [
    "l1 = ['python', 'php', 'aba', 'radar', 'level'] \n",
    "palin_check = list(filter(lambda x: x == x[ : : -1],l1))\n",
    "print(palin_check)"
   ]
  },
  {
   "cell_type": "code",
   "execution_count": null,
   "id": "00162c91-a03d-4e07-92e9-7440b7ee7a43",
   "metadata": {},
   "outputs": [],
   "source": []
  }
 ],
 "metadata": {
  "kernelspec": {
   "display_name": "Python 3 (ipykernel)",
   "language": "python",
   "name": "python3"
  },
  "language_info": {
   "codemirror_mode": {
    "name": "ipython",
    "version": 3
   },
   "file_extension": ".py",
   "mimetype": "text/x-python",
   "name": "python",
   "nbconvert_exporter": "python",
   "pygments_lexer": "ipython3",
   "version": "3.10.8"
  }
 },
 "nbformat": 4,
 "nbformat_minor": 5
}

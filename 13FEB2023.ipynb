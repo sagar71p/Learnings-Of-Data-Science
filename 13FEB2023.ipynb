{
 "cells": [
  {
   "cell_type": "markdown",
   "id": "1746b1a9-8398-4354-aa8a-53d6365bcee0",
   "metadata": {},
   "source": [
    "## 1 Question\n",
    "\n",
    "Explain why we have to use the Exception class while creating a Custom Exception. Note: Here Exception class refers to the base class for all the exceptions."
   ]
  },
  {
   "cell_type": "markdown",
   "id": "d57e9a08-7955-4b60-ad5e-554cffcb33f2",
   "metadata": {},
   "source": [
    "Ans: When creating a custom exception in Python, it is usefull to inherit from the base Exception class.\n",
    "Inheriting from the Exception class allows custom exception to have access to all of the built-in exception handling mechanisms in Python. For example, if raise a custom exception that inherits from Exception, we can catch that exception with a generic except Exception block, which will catch all exceptions, including your custom one."
   ]
  },
  {
   "cell_type": "markdown",
   "id": "8fb46581-855f-4f46-bad0-024ac177b031",
   "metadata": {},
   "source": [
    "## 2 Question"
   ]
  },
  {
   "cell_type": "markdown",
   "id": "36281ec4-f434-4a02-ab16-c1d184baa588",
   "metadata": {},
   "source": [
    " Write a python program to print Python Exception Hierarchy. \n"
   ]
  },
  {
   "cell_type": "code",
   "execution_count": 1,
   "id": "3abb0832-31ae-4a72-8823-de3292312ff7",
   "metadata": {},
   "outputs": [
    {
     "name": "stdout",
     "output_type": "stream",
     "text": [
      "BaseException\n",
      "  Exception\n",
      "    TypeError\n",
      "      FloatOperation\n",
      "      MultipartConversionError\n",
      "    StopAsyncIteration\n",
      "    StopIteration\n",
      "    ImportError\n",
      "      ModuleNotFoundError\n",
      "      ZipImportError\n",
      "    OSError\n",
      "      ConnectionError\n",
      "        BrokenPipeError\n",
      "        ConnectionAbortedError\n",
      "        ConnectionRefusedError\n",
      "        ConnectionResetError\n",
      "          RemoteDisconnected\n",
      "      BlockingIOError\n",
      "      ChildProcessError\n",
      "      FileExistsError\n",
      "      FileNotFoundError\n",
      "      IsADirectoryError\n",
      "      NotADirectoryError\n",
      "      InterruptedError\n",
      "        InterruptedSystemCall\n",
      "      PermissionError\n",
      "      ProcessLookupError\n",
      "      TimeoutError\n",
      "      UnsupportedOperation\n",
      "      itimer_error\n",
      "      herror\n",
      "      gaierror\n",
      "      SSLError\n",
      "        SSLCertVerificationError\n",
      "        SSLZeroReturnError\n",
      "        SSLWantWriteError\n",
      "        SSLWantReadError\n",
      "        SSLSyscallError\n",
      "        SSLEOFError\n",
      "      Error\n",
      "        SameFileError\n",
      "      SpecialFileError\n",
      "      ExecError\n",
      "      ReadError\n",
      "      URLError\n",
      "        HTTPError\n",
      "        ContentTooShortError\n",
      "      BadGzipFile\n",
      "    EOFError\n",
      "      IncompleteReadError\n",
      "    RuntimeError\n",
      "      RecursionError\n",
      "      NotImplementedError\n",
      "        ZMQVersionError\n",
      "        StdinNotImplementedError\n",
      "      _DeadlockError\n",
      "      BrokenBarrierError\n",
      "      BrokenExecutor\n",
      "        BrokenThreadPool\n",
      "      SendfileNotAvailableError\n",
      "      ExtractionError\n",
      "      VariableError\n",
      "    NameError\n",
      "      UnboundLocalError\n",
      "    AttributeError\n",
      "      FrozenInstanceError\n",
      "    SyntaxError\n",
      "      IndentationError\n",
      "        TabError\n",
      "    LookupError\n",
      "      IndexError\n",
      "      KeyError\n",
      "        NoSuchKernel\n",
      "        UnknownBackend\n",
      "      CodecRegistryError\n",
      "    ValueError\n",
      "      UnicodeError\n",
      "        UnicodeEncodeError\n",
      "        UnicodeDecodeError\n",
      "        UnicodeTranslateError\n",
      "      UnsupportedOperation\n",
      "      JSONDecodeError\n",
      "      SSLCertVerificationError\n",
      "      Error\n",
      "      UnsupportedDigestmodError\n",
      "      IllegalMonthError\n",
      "      IllegalWeekdayError\n",
      "      ParserError\n",
      "      ClassNotFound\n",
      "      ClipboardEmpty\n",
      "      MessageDefect\n",
      "        NoBoundaryInMultipartDefect\n",
      "        StartBoundaryNotFoundDefect\n",
      "        CloseBoundaryNotFoundDefect\n",
      "        FirstHeaderLineIsContinuationDefect\n",
      "        MisplacedEnvelopeHeaderDefect\n",
      "        MissingHeaderBodySeparatorDefect\n",
      "        MultipartInvariantViolationDefect\n",
      "        InvalidMultipartContentTransferEncodingDefect\n",
      "        UndecodableBytesDefect\n",
      "        InvalidBase64PaddingDefect\n",
      "        InvalidBase64CharactersDefect\n",
      "        InvalidBase64LengthDefect\n",
      "        HeaderDefect\n",
      "          InvalidHeaderDefect\n",
      "          HeaderMissingRequiredValue\n",
      "          NonPrintableDefect\n",
      "          ObsoleteHeaderDefect\n",
      "          NonASCIILocalPartDefect\n",
      "          InvalidDateDefect\n",
      "      MacroToEdit\n",
      "      InvalidFileException\n",
      "      UnequalIterablesError\n",
      "      InvalidVersion\n",
      "      _InvalidELFFileHeader\n",
      "      InvalidWheelFilename\n",
      "      InvalidSdistFilename\n",
      "      InvalidSpecifier\n",
      "      InvalidMarker\n",
      "      UndefinedComparison\n",
      "      UndefinedEnvironmentName\n",
      "      InvalidRequirement\n",
      "        RequirementParseError\n",
      "      InvalidVersion\n",
      "    AssertionError\n",
      "    ArithmeticError\n",
      "      FloatingPointError\n",
      "      OverflowError\n",
      "      ZeroDivisionError\n",
      "        DivisionByZero\n",
      "        DivisionUndefined\n",
      "      DecimalException\n",
      "        Clamped\n",
      "        Rounded\n",
      "          Underflow\n",
      "          Overflow\n",
      "        Inexact\n",
      "          Underflow\n",
      "          Overflow\n",
      "        Subnormal\n",
      "          Underflow\n",
      "        DivisionByZero\n",
      "        FloatOperation\n",
      "        InvalidOperation\n",
      "          ConversionSyntax\n",
      "          DivisionImpossible\n",
      "          DivisionUndefined\n",
      "          InvalidContext\n",
      "    SystemError\n",
      "      CodecRegistryError\n",
      "    ReferenceError\n",
      "    MemoryError\n",
      "    BufferError\n",
      "    Warning\n",
      "      UserWarning\n",
      "        GetPassWarning\n",
      "        FormatterWarning\n",
      "      EncodingWarning\n",
      "      DeprecationWarning\n",
      "        ProvisionalWarning\n",
      "      PendingDeprecationWarning\n",
      "      SyntaxWarning\n",
      "      RuntimeWarning\n",
      "        ProactorSelectorThreadWarning\n",
      "        UnknownTimezoneWarning\n",
      "        PEP440Warning\n",
      "      FutureWarning\n",
      "        ProvisionalCompleterWarning\n",
      "      ImportWarning\n",
      "      UnicodeWarning\n",
      "      BytesWarning\n",
      "      ResourceWarning\n",
      "      DeprecatedTzFormatWarning\n",
      "      PkgResourcesDeprecationWarning\n",
      "    _OptionError\n",
      "    _Error\n",
      "    error\n",
      "    Verbose\n",
      "    Error\n",
      "    SubprocessError\n",
      "      CalledProcessError\n",
      "      TimeoutExpired\n",
      "    TokenError\n",
      "    StopTokenizing\n",
      "    ClassFoundException\n",
      "    EndOfBlock\n",
      "    TraitError\n",
      "    Error\n",
      "    Error\n",
      "      CancelledError\n",
      "      TimeoutError\n",
      "      InvalidStateError\n",
      "    _GiveupOnSendfile\n",
      "    error\n",
      "    Incomplete\n",
      "    TimeoutError\n",
      "    InvalidStateError\n",
      "    LimitOverrunError\n",
      "    QueueEmpty\n",
      "    QueueFull\n",
      "    Empty\n",
      "    Full\n",
      "    ArgumentError\n",
      "    ZMQBaseError\n",
      "      ZMQError\n",
      "        ContextTerminated\n",
      "        Again\n",
      "        InterruptedSystemCall\n",
      "      ZMQBindError\n",
      "      NotDone\n",
      "    PickleError\n",
      "      PicklingError\n",
      "      UnpicklingError\n",
      "    _Stop\n",
      "    ArgumentError\n",
      "    ArgumentTypeError\n",
      "    ConfigError\n",
      "      ConfigLoaderError\n",
      "        ArgumentError\n",
      "      ConfigFileNotFound\n",
      "    ConfigurableError\n",
      "      MultipleInstanceError\n",
      "    ApplicationError\n",
      "    error\n",
      "    TimeoutError\n",
      "    error\n",
      "    ReturnValueIgnoredError\n",
      "    KeyReuseError\n",
      "    UnknownKeyError\n",
      "    LeakedCallbackError\n",
      "    BadYieldError\n",
      "    ReturnValueIgnoredError\n",
      "    Return\n",
      "    InvalidPortNumber\n",
      "    error\n",
      "    LZMAError\n",
      "    RegistryError\n",
      "    _GiveupOnFastCopy\n",
      "    Error\n",
      "      NoSectionError\n",
      "      DuplicateSectionError\n",
      "      DuplicateOptionError\n",
      "      NoOptionError\n",
      "      InterpolationError\n",
      "        InterpolationMissingOptionError\n",
      "        InterpolationSyntaxError\n",
      "        InterpolationDepthError\n",
      "      ParsingError\n",
      "        MissingSectionHeaderError\n",
      "    NoIPAddresses\n",
      "    BadZipFile\n",
      "    LargeZipFile\n",
      "    BadEntryPoint\n",
      "    NoSuchEntryPoint\n",
      "    DuplicateKernelError\n",
      "    ErrorDuringImport\n",
      "    NotOneValueFound\n",
      "    CannotEval\n",
      "    OptionError\n",
      "    BdbQuit\n",
      "    Restart\n",
      "    ExceptionPexpect\n",
      "      EOF\n",
      "      TIMEOUT\n",
      "    PtyProcessError\n",
      "    FindCmdError\n",
      "    HomeDirError\n",
      "    ProfileDirError\n",
      "    IPythonCoreError\n",
      "      TryNext\n",
      "      UsageError\n",
      "      StdinNotImplementedError\n",
      "    InputRejected\n",
      "    GetoptError\n",
      "    ErrorToken\n",
      "    PrefilterError\n",
      "    AliasError\n",
      "      InvalidAliasError\n",
      "    Error\n",
      "      InterfaceError\n",
      "      DatabaseError\n",
      "        InternalError\n",
      "        OperationalError\n",
      "        ProgrammingError\n",
      "        IntegrityError\n",
      "        DataError\n",
      "        NotSupportedError\n",
      "    Warning\n",
      "    SpaceInInput\n",
      "    DOMException\n",
      "      IndexSizeErr\n",
      "      DomstringSizeErr\n",
      "      HierarchyRequestErr\n",
      "      WrongDocumentErr\n",
      "      InvalidCharacterErr\n",
      "      NoDataAllowedErr\n",
      "      NoModificationAllowedErr\n",
      "      NotFoundErr\n",
      "      NotSupportedErr\n",
      "      InuseAttributeErr\n",
      "      InvalidStateErr\n",
      "      SyntaxErr\n",
      "      InvalidModificationErr\n",
      "      NamespaceErr\n",
      "      InvalidAccessErr\n",
      "      ValidationErr\n",
      "    ValidationError\n",
      "    EditReadOnlyBuffer\n",
      "    _Retry\n",
      "    InvalidLayoutError\n",
      "    HeightIsUnknownError\n",
      "    ParserSyntaxError\n",
      "    InternalParseError\n",
      "    _PositionUpdatingFinished\n",
      "    SimpleGetItemNotFound\n",
      "    UncaughtAttributeError\n",
      "    HasNoContext\n",
      "    ParamIssue\n",
      "    _JediError\n",
      "      InternalError\n",
      "      WrongVersion\n",
      "      RefactoringError\n",
      "    OnErrorLeaf\n",
      "    InvalidPythonEnvironment\n",
      "    MessageError\n",
      "      MessageParseError\n",
      "        HeaderParseError\n",
      "        BoundaryError\n",
      "      MultipartConversionError\n",
      "      CharsetError\n",
      "    Error\n",
      "    HTTPException\n",
      "      NotConnected\n",
      "      InvalidURL\n",
      "      UnknownProtocol\n",
      "      UnknownTransferEncoding\n",
      "      UnimplementedFileMode\n",
      "      IncompleteRead\n",
      "      ImproperConnectionState\n",
      "        CannotSendRequest\n",
      "        CannotSendHeader\n",
      "        ResponseNotReady\n",
      "      BadStatusLine\n",
      "        RemoteDisconnected\n",
      "      LineTooLong\n",
      "    InteractivelyDefined\n",
      "    KillEmbedded\n",
      "    Error\n",
      "      NoSuchProcess\n",
      "        ZombieProcess\n",
      "      AccessDenied\n",
      "      TimeoutExpired\n",
      "    _Ipv6UnsupportedError\n",
      "    QueueEmpty\n",
      "    QueueFull\n",
      "    DebuggerInitializationError\n",
      "    ExpatError\n",
      "    Error\n",
      "      ProtocolError\n",
      "      ResponseError\n",
      "      Fault\n",
      "    ParseBaseException\n",
      "      ParseException\n",
      "      ParseFatalException\n",
      "        ParseSyntaxException\n",
      "    RecursiveGrammarException\n",
      "    ResolutionError\n",
      "      VersionConflict\n",
      "        ContextualVersionConflict\n",
      "      DistributionNotFound\n",
      "      UnknownExtra\n",
      "    _Error\n",
      "    UnableToResolveVariableException\n",
      "    InvalidTypeInArgsException\n",
      "  GeneratorExit\n",
      "  SystemExit\n",
      "  KeyboardInterrupt\n",
      "  CancelledError\n",
      "  AbortThread\n"
     ]
    }
   ],
   "source": [
    "def ex_hierarchy(exception_class, i=0):\n",
    "    print(\"  \" * i + exception_class.__name__)\n",
    "    for subclass in exception_class.__subclasses__():\n",
    "        ex_hierarchy(subclass, i+1)\n",
    "ex_hierarchy(BaseException)\n"
   ]
  },
  {
   "cell_type": "markdown",
   "id": "8546cf08-7b36-4ca5-8fbb-d3b8b5febe80",
   "metadata": {},
   "source": [
    "## 3 Question"
   ]
  },
  {
   "cell_type": "markdown",
   "id": "960f240e-343a-4486-a87e-5041acda7af1",
   "metadata": {},
   "source": [
    "What errors are defined in the ArithmeticError class? Explain any two with an example."
   ]
  },
  {
   "cell_type": "markdown",
   "id": "0f2bbe6c-879d-4525-9091-cac7fcd1e202",
   "metadata": {},
   "source": [
    "Ans : ArithmeticError class is built in python exception class for errors occur during Arithmetic operation.\n",
    "It is the base class for more specific arithmetic-related exception classes such as FloatingPointError, OverflowError, and ZeroDivisionError"
   ]
  },
  {
   "cell_type": "markdown",
   "id": "fefc7085-ce2a-4f6d-bf4c-2e17a6efdfed",
   "metadata": {},
   "source": [
    "1.ZeroDivisionError: This exception is raised when a dividing by zero ."
   ]
  },
  {
   "cell_type": "code",
   "execution_count": 6,
   "id": "b889694e-8cee-4981-8592-e59df0f68d89",
   "metadata": {},
   "outputs": [
    {
     "name": "stdout",
     "output_type": "stream",
     "text": [
      "Error: division by zero \n"
     ]
    }
   ],
   "source": [
    "try:\n",
    "    result = 1.0 / 0.0\n",
    "except ZeroDivisionError:\n",
    "    print(\"Error: division by zero \")\n"
   ]
  },
  {
   "cell_type": "markdown",
   "id": "29fcb1bd-4384-4889-a53c-a6f2cff8b85a",
   "metadata": {},
   "source": [
    "2.OverflowError: This exception is raised when an arithmetic operation produces a result that is too large to represent as a Python integer. "
   ]
  },
  {
   "cell_type": "code",
   "execution_count": 4,
   "id": "021a7f67-418b-4d9b-88e8-edad7930ab81",
   "metadata": {},
   "outputs": [],
   "source": [
    "try:\n",
    "    result = 2 ** 100000\n",
    "except OverflowError:\n",
    "    print(\"Error: integer overflow\")\n"
   ]
  },
  {
   "cell_type": "markdown",
   "id": "bf5d343b-3627-482e-8122-eb06e5e89cfa",
   "metadata": {},
   "source": [
    "## 4 Question"
   ]
  },
  {
   "cell_type": "markdown",
   "id": "dc1d4df1-a0bc-44af-b763-a50f471613ce",
   "metadata": {},
   "source": [
    "Why LookupError class is used? Explain with an example KeyError and IndexError. "
   ]
  },
  {
   "cell_type": "markdown",
   "id": "2297d32f-0d99-4aa8-a516-983c97581587",
   "metadata": {},
   "source": [
    "Ans : The LookupError class is a built-in Python exception class that serves as the base class for a group of exceptions related to lookup operations. Lookup operations are operations that search for a value in a collection, such as indexing or key lookups in a list or dictionary"
   ]
  },
  {
   "cell_type": "markdown",
   "id": "c57bf95f-f1a1-4ae8-8088-a59126cc5de0",
   "metadata": {},
   "source": [
    "1.KeyError: This exception is raised when you try to access a non-existent key in a dictionary"
   ]
  },
  {
   "cell_type": "code",
   "execution_count": 11,
   "id": "b13886aa-ad61-4134-8183-cc8135cef114",
   "metadata": {},
   "outputs": [
    {
     "name": "stdout",
     "output_type": "stream",
     "text": [
      "Error: the key d does not exist in the dictionary\n"
     ]
    }
   ],
   "source": [
    "dicti = {\"a\": 1, \"b\": 2, \"c\": 4}\n",
    "try:\n",
    "    value = dicti[\"d\"]\n",
    "except KeyError:\n",
    "    print(\"Error: the key d does not exist in the dictionary\")\n"
   ]
  },
  {
   "cell_type": "markdown",
   "id": "75374ba6-8a3b-41c6-a4b5-f67287d3f153",
   "metadata": {},
   "source": [
    "2.IndexError: This exception is raised when you try to access an index in a sequence that is out of bounds."
   ]
  },
  {
   "cell_type": "code",
   "execution_count": 16,
   "id": "8a41ead2-9a7f-4568-9346-67853edf4c74",
   "metadata": {},
   "outputs": [
    {
     "name": "stdout",
     "output_type": "stream",
     "text": [
      "Error: the index 8 is out of range for the list\n"
     ]
    }
   ],
   "source": [
    "lists = [1,2,3,4,5,6,7]\n",
    "try:\n",
    "    value = lists[8]\n",
    "except IndexError:\n",
    "    print(\"Error: the index 8 is out of range for the list\")\n"
   ]
  },
  {
   "cell_type": "markdown",
   "id": "8079bfb7-48d1-489c-9047-3e2aa64018ea",
   "metadata": {},
   "source": [
    "## 5 Question"
   ]
  },
  {
   "cell_type": "markdown",
   "id": "4dbe510e-b520-4675-a05e-6fbab0e868d7",
   "metadata": {},
   "source": [
    " Explain ImportError. What is ModuleNotFoundError? \n"
   ]
  },
  {
   "cell_type": "markdown",
   "id": "93f336d7-3de1-4d1c-b50f-dbce15b620a5",
   "metadata": {},
   "source": [
    "Ans : ImportError is a built-in Python exception that is raised when an import statement fails to import a module. \n",
    "ModuleNotFoundError is a more specific exception that is derived from ImportError, and it is raised when the specified module could not be found."
   ]
  },
  {
   "cell_type": "code",
   "execution_count": 21,
   "id": "e31f8cf6-2181-457d-85fa-c0585e510efd",
   "metadata": {},
   "outputs": [
    {
     "name": "stdout",
     "output_type": "stream",
     "text": [
      "Error: module 'my_module' not found\n"
     ]
    }
   ],
   "source": [
    "try :\n",
    "    import my_module\n",
    "except ModuleNotFoundError:\n",
    "    print(\"Error: module 'my_module' not found\")\n"
   ]
  },
  {
   "cell_type": "markdown",
   "id": "2842f53d-2750-4bc5-9cde-25fc9336d378",
   "metadata": {},
   "source": [
    "## 6 Question"
   ]
  },
  {
   "cell_type": "markdown",
   "id": "abdf8c5e-103d-4f2f-8951-7e46a3b9a679",
   "metadata": {},
   "source": [
    "List down some best practices for exception handling in python. "
   ]
  },
  {
   "cell_type": "markdown",
   "id": "5d6c5e1e-4f96-4612-8153-e979958f9b6f",
   "metadata": {},
   "source": [
    "1.Use the finally block to clean up resources: The finally block is executed whether an exception is raised or not. Use it to release any resources (such as files or network connections) that were acquired in the try block.\n",
    "\n",
    "2. Use with statements to automatically release resources when they go out of scope.\n",
    "\n",
    "3.Use the built-in logging module to record and report exceptions in a consistent and structured way.\n"
   ]
  }
 ],
 "metadata": {
  "kernelspec": {
   "display_name": "Python 3 (ipykernel)",
   "language": "python",
   "name": "python3"
  },
  "language_info": {
   "codemirror_mode": {
    "name": "ipython",
    "version": 3
   },
   "file_extension": ".py",
   "mimetype": "text/x-python",
   "name": "python",
   "nbconvert_exporter": "python",
   "pygments_lexer": "ipython3",
   "version": "3.10.8"
  }
 },
 "nbformat": 4,
 "nbformat_minor": 5
}

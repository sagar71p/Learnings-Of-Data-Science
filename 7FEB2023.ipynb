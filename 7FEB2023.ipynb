{
 "cells": [
  {
   "cell_type": "markdown",
   "id": "fb709801-5f23-4ab6-babe-df05fb449d23",
   "metadata": {},
   "source": [
    "## 1 Question"
   ]
  },
  {
   "cell_type": "markdown",
   "id": "869eb791-a6ff-473e-98d2-34153cf719ef",
   "metadata": {},
   "source": [
    "1. You are writing code for a company. The requirement of the company is that you create a python  function that will check whether the password entered by the user is correct or not. The function should  take the password as input and return the string “Valid Password” if the entered password follows the  below-given password guidelines else it should return “Invalid Password”. \n",
    "Note: 1. The Password should contain at least two uppercase letters and at least two lowercase letters. 2. The Password should contain at least a number and three special characters. \n",
    "3. The length of the password should be 10 characters long. \n"
   ]
  },
  {
   "cell_type": "code",
   "execution_count": 2,
   "id": "a89b0705-82da-4675-a3ba-0c35f6e9e1d5",
   "metadata": {},
   "outputs": [],
   "source": [
    "def check_password(password):\n",
    "    if len(password) != 10:\n",
    "        return \"Invalid Password\"\n",
    "    num_upper = sum(1 for c in password if c.isupper())\n",
    "    num_lower = sum(1 for c in password if c.islower())\n",
    "    if num_upper < 2 or num_lower < 2:\n",
    "        return \"Invalid Password\"\n",
    "    num_digits = sum(1 for c in password if c.isdigit())\n",
    "    num_special = sum(1 for c in password if not c.isalnum())\n",
    "    if num_digits < 1 or num_special < 3:\n",
    "        return \"Invalid Password\"\n",
    "\n",
    "    return \"Valid Password\"\n"
   ]
  },
  {
   "cell_type": "code",
   "execution_count": 6,
   "id": "f1aaa032-b1ce-419d-8f45-fda1dee87c97",
   "metadata": {},
   "outputs": [
    {
     "name": "stdin",
     "output_type": "stream",
     "text": [
      "password enter SAgar1!@#1\n"
     ]
    },
    {
     "name": "stdout",
     "output_type": "stream",
     "text": [
      "Valid Password\n"
     ]
    }
   ],
   "source": [
    "i = input(\"password enter\")\n",
    "v = check_password(i)\n",
    "print(v)"
   ]
  },
  {
   "cell_type": "markdown",
   "id": "2fd6dca7-08b2-43dc-9374-48145ea80963",
   "metadata": {},
   "source": [
    "## 2 Question "
   ]
  },
  {
   "cell_type": "raw",
   "id": "30110923-b43f-47a6-b6e0-f086b6a9aafd",
   "metadata": {},
   "source": [
    "Q2. Solve the below-given questions using at least one of the following:\n",
    "1. Lambda functioJ\n",
    "2. Filter functioJ\n",
    "3. Zap functioJ\n",
    "4. List ComprehensioI\n",
    "B Check if the string starts with a particular letterY\n",
    "B Check if the string is numericY\n",
    "B Sort a list of tuples having fruit names and their quantity. [(\"mango\",99),(\"orange\",80), (\"grapes\", 1000)-\n",
    "B Find the squares of numbers from 1 to 10Y\n",
    "B Find the cube root of numbers from 1 to 10Y\n",
    "B Check if a given number is evenY\n",
    "B Filter odd numbers from the given list.\n",
    "[1,2,3,4,5,6,7,8,9,10-\n",
    "B Sort a list of integers into positive and negative integers lists.\n",
    "[1,2,3,4,5,6,-1,-2,-3,-4,-5,0]"
   ]
  },
  {
   "cell_type": "code",
   "execution_count": 14,
   "id": "8de11b4b-bf7e-44a8-ae86-03c07493f703",
   "metadata": {},
   "outputs": [
    {
     "name": "stdout",
     "output_type": "stream",
     "text": [
      "False\n"
     ]
    }
   ],
   "source": [
    "##1\n",
    "h = 'panchal sagar'\n",
    "check = lambda x:x.startswith('s')\n",
    "print(check(h))\n"
   ]
  },
  {
   "cell_type": "code",
   "execution_count": 18,
   "id": "d02c5f0f-daaf-4621-b0eb-dc05ec7c3d38",
   "metadata": {},
   "outputs": [
    {
     "name": "stdout",
     "output_type": "stream",
     "text": [
      "True\n"
     ]
    }
   ],
   "source": [
    "##2\n",
    "h = '1'\n",
    "check = lambda x:x.isnumeric()\n",
    "print(check(h))"
   ]
  },
  {
   "cell_type": "code",
   "execution_count": 25,
   "id": "edae12ab-138e-412d-9b4a-6973f8b15b9e",
   "metadata": {},
   "outputs": [
    {
     "name": "stdout",
     "output_type": "stream",
     "text": [
      "[('orange', 80), ('mango', 99), ('grapes', 1000)]\n"
     ]
    }
   ],
   "source": [
    "##3 Sort a list of tuples having fruit names and their quantity. [(\"mango\",99),(\"orange\",80), (\"grapes\", 1000)\n",
    "f = [(\"mango\",99),(\"orange\",80),(\"grapes\",1000)]\n",
    "short_fru = sorted(f,key = lambda x:x[1])\n",
    "print(short_fru)                   "
   ]
  },
  {
   "cell_type": "code",
   "execution_count": 36,
   "id": "4284d67e-d2f9-47a4-a5ef-45fd084a3bcd",
   "metadata": {},
   "outputs": [
    {
     "name": "stdout",
     "output_type": "stream",
     "text": [
      "[1, 4, 9, 16, 25, 36, 49, 64, 81, 100]\n"
     ]
    }
   ],
   "source": [
    "##4  Find the squares of numbers from 1 to 10 \n",
    "f = [x**2 for x in range(1,11)]\n",
    "print(f)"
   ]
  },
  {
   "cell_type": "code",
   "execution_count": 40,
   "id": "f93be4d1-3c14-431b-9bd1-1fd348aebb98",
   "metadata": {},
   "outputs": [
    {
     "name": "stdout",
     "output_type": "stream",
     "text": [
      "[1.0, 1.2599210498948732, 1.4422495703074083, 1.5874010519681994, 1.7099759466766968, 1.8171205928321397, 1.912931182772389, 2.0, 2.080083823051904, 2.154434690031884]\n"
     ]
    }
   ],
   "source": [
    "##5 Find the cube root of numbers from 1 to 10 \n",
    "f  =  [pow(x,1/3) for x in range(1,11)]\n",
    "print(f)"
   ]
  },
  {
   "cell_type": "code",
   "execution_count": 46,
   "id": "b7e5ec53-b735-4da1-b93e-023e467dc006",
   "metadata": {},
   "outputs": [
    {
     "name": "stdin",
     "output_type": "stream",
     "text": [
      "input number 11\n"
     ]
    },
    {
     "name": "stdout",
     "output_type": "stream",
     "text": [
      "False\n"
     ]
    }
   ],
   "source": [
    "##6 Check if a given number is evenY \n",
    "i = int(input(\"input number\"))\n",
    "p = lambda x : x%2==0\n",
    "print(p(i))\n",
    "        "
   ]
  },
  {
   "cell_type": "code",
   "execution_count": 48,
   "id": "f36aed6a-7ce5-4e14-9d3e-83c021c42b38",
   "metadata": {},
   "outputs": [
    {
     "name": "stdout",
     "output_type": "stream",
     "text": [
      "[1, 3, 5, 7, 9]\n"
     ]
    }
   ],
   "source": [
    "##7 Filter odd numbers from the given list. \n",
    " ##[1,2,3,4,5,6,7,8,9,10]\n",
    "l = [1,2,3,4,5,6,7,8,9,10]\n",
    "odd_num = list(filter(lambda x:x%2 !=0,l))\n",
    "print(odd_num)\n"
   ]
  },
  {
   "cell_type": "code",
   "execution_count": 51,
   "id": "fc1754ba-371a-4093-ba45-bae5866c3ce4",
   "metadata": {},
   "outputs": [
    {
     "name": "stdout",
     "output_type": "stream",
     "text": [
      "po_list = [1, 2, 3, 4, 5, 6]\n",
      " ne_list = [-1, -2, -3, -4, -5]\n"
     ]
    }
   ],
   "source": [
    "##8 Sort a list of integers into positive and negative integers lists. \n",
    "l = [1,2,3,4,5,6,-1,-2,-3,-4,-5,0] \n",
    "po_list = list(filter(lambda x:x>0,l))\n",
    "ne_list = list(filter(lambda x:x<0,l))\n",
    "print(\"po_list = {}\\n ne_list = {}\".format(po_list,ne_list))"
   ]
  },
  {
   "cell_type": "code",
   "execution_count": null,
   "id": "d2b7f033-f120-4748-b45a-e865db9642d5",
   "metadata": {},
   "outputs": [],
   "source": []
  }
 ],
 "metadata": {
  "kernelspec": {
   "display_name": "Python 3 (ipykernel)",
   "language": "python",
   "name": "python3"
  },
  "language_info": {
   "codemirror_mode": {
    "name": "ipython",
    "version": 3
   },
   "file_extension": ".py",
   "mimetype": "text/x-python",
   "name": "python",
   "nbconvert_exporter": "python",
   "pygments_lexer": "ipython3",
   "version": "3.10.8"
  }
 },
 "nbformat": 4,
 "nbformat_minor": 5
}

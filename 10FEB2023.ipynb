{
 "cells": [
  {
   "cell_type": "markdown",
   "id": "f9432392-98dc-49db-a89e-31ec495c5cc3",
   "metadata": {},
   "source": [
    "## 1 Question"
   ]
  },
  {
   "cell_type": "markdown",
   "id": "58ed6ddc-dded-440d-b467-7bbde80858b0",
   "metadata": {},
   "source": [
    " Which function is used to open a file? What are the different modes of opening a file? Explain each mode  of file opening. \n"
   ]
  },
  {
   "cell_type": "markdown",
   "id": "b114bd84-3087-47a7-8c07-63366c1424fa",
   "metadata": {},
   "source": [
    "\"open()\" function is used to open a file in python."
   ]
  },
  {
   "cell_type": "code",
   "execution_count": 9,
   "id": "cfe10cd5-8516-43c9-a2f4-1d97ba247ae8",
   "metadata": {},
   "outputs": [],
   "source": [
    "f = open(\"sagar.txt\",'r')\n"
   ]
  },
  {
   "cell_type": "markdown",
   "id": "85b8c52f-7af3-4018-b321-b872f5268f86",
   "metadata": {},
   "source": [
    "modes : \n",
    "'r'       open for reading (default)\n",
    "'w'       open for writing, truncating the file first\n",
    "'x'       create a new file and open it for writing\n",
    "'a'       open for writing, appending to the end of the file if it exists\n",
    "'b'       binary mode\n",
    "'t'       text mode (default)\n",
    "'+'       open a disk file for updating (reading and writing)\n",
    "'U'       universal newline mode (deprecated)\n",
    "\n",
    "f = open(\"example.txt\", \"r\")\n",
    "# Open a file for writing\n",
    "f = open(\"example.txt\", \"w\")\n",
    "# Open a file for appending\n",
    "f = open(\"example.txt\", \"a\")\n",
    "# Open a binary file for writing\n",
    "f = open(\"example.bin\", \"wb\")\n",
    "# Open a text file for reading\n",
    "f = open(\"example.txt\", \"rt\")"
   ]
  },
  {
   "cell_type": "markdown",
   "id": "d50451af-c852-4070-a5d2-d9dcb9ad8d13",
   "metadata": {},
   "source": [
    "## 2 Question"
   ]
  },
  {
   "cell_type": "markdown",
   "id": "54d1aa97-9e25-485e-809b-ea36cdd80ec9",
   "metadata": {},
   "source": [
    " Why close() function is used? Why is it important to close a file?"
   ]
  },
  {
   "cell_type": "markdown",
   "id": "9666f6da-2263-43c2-b2f5-47524c89d001",
   "metadata": {},
   "source": [
    "Ans : close() function is used to close the file which is open by open() function in python. \n",
    "\n",
    "When a file is opened, the operating system assigns some resources to the file, such as file descriptors or memory. If the file is not closed properly, these resources may remain allocated, which can cause problems for the operating system or for other programs running on the same machine. so its importent to close the file in python."
   ]
  },
  {
   "cell_type": "markdown",
   "id": "8d6f5c57-8158-45b3-9288-bfe5aeb2f727",
   "metadata": {},
   "source": [
    "## 3 Question\n"
   ]
  },
  {
   "cell_type": "markdown",
   "id": "0b285e94-bd67-4e5a-9f04-139c1aad8b66",
   "metadata": {},
   "source": [
    "Write a python program to create a text file. Write ‘I want to become a Data Scientist’ in that file. Then  close the file. Open this file and read the content of the file. "
   ]
  },
  {
   "cell_type": "markdown",
   "id": "2f865bf4-6f0f-4d8a-806c-c54faa9259e7",
   "metadata": {},
   "source": [
    "Ans: \n",
    "    "
   ]
  },
  {
   "cell_type": "code",
   "execution_count": 15,
   "id": "248a192b-f38b-4691-aaf7-3f3567b3d5e2",
   "metadata": {},
   "outputs": [],
   "source": [
    "f = open(\"new.txt\",\"w\")\n",
    "f.write(\"I want to become a Data Scientist\")\n",
    "f.close()"
   ]
  },
  {
   "cell_type": "code",
   "execution_count": 17,
   "id": "254f981d-32cc-468d-a49b-48c5e2643261",
   "metadata": {},
   "outputs": [
    {
     "name": "stdout",
     "output_type": "stream",
     "text": [
      "I want to become a Data Scientist\n"
     ]
    }
   ],
   "source": [
    "f = open(\"new.txt\",\"r\")\n",
    "print(f.read())\n",
    "f.close()"
   ]
  },
  {
   "cell_type": "markdown",
   "id": "ae71eb31-e251-4422-aecc-8d815e1844f0",
   "metadata": {},
   "source": [
    "## 4 Question"
   ]
  },
  {
   "cell_type": "markdown",
   "id": "f6342677-d04f-4712-8c86-c2831f456479",
   "metadata": {},
   "source": [
    "Explain the following with python code: read(), readline() and readlines(). "
   ]
  },
  {
   "cell_type": "markdown",
   "id": "3e6f5bce-dd35-462c-8da3-ee9ca95bb92c",
   "metadata": {},
   "source": [
    "read(), readline(), and readlines() are methods used to read data from a file in Python.\n",
    "1.read(): this method is used to read the entire content of a file. It reads all the data from the file and returns it as a string. \n",
    "2.readline(): This method is used to read a single line from a file. It reads a single line from the file and returns it as a string.\n",
    "3.readlines(): This method is used to read all the lines of a file and return them as a list of strings. Each string in the list represents a single line from the file"
   ]
  },
  {
   "cell_type": "code",
   "execution_count": 18,
   "id": "1b663d6c-6871-4c0e-a352-0d6cb25e14ca",
   "metadata": {},
   "outputs": [
    {
     "name": "stdout",
     "output_type": "stream",
     "text": [
      "I want to become a Data Scientist\n"
     ]
    }
   ],
   "source": [
    "f = open(\"new.txt\",\"r\")\n",
    "print(f.read())\n",
    "f.close()"
   ]
  },
  {
   "cell_type": "code",
   "execution_count": 19,
   "id": "4b5c38dc-e9c7-4ad3-8fbb-1bbce245243c",
   "metadata": {},
   "outputs": [
    {
     "name": "stdout",
     "output_type": "stream",
     "text": [
      "I want to become a Data Scientist\n"
     ]
    }
   ],
   "source": [
    "f = open(\"new.txt\",\"r\")\n",
    "print(f.readline())\n",
    "f.close()"
   ]
  },
  {
   "cell_type": "code",
   "execution_count": 20,
   "id": "4aa3f06b-1cd4-4dae-8e65-cc029c3d08f7",
   "metadata": {},
   "outputs": [
    {
     "name": "stdout",
     "output_type": "stream",
     "text": [
      "['I want to become a Data Scientist']\n"
     ]
    }
   ],
   "source": [
    "f = open(\"new.txt\",\"r\")\n",
    "print(f.readlines())\n",
    "f.close()"
   ]
  },
  {
   "cell_type": "markdown",
   "id": "f56ef763-bf00-42b1-80ab-4f258fd64d4c",
   "metadata": {},
   "source": [
    "## 5 Question"
   ]
  },
  {
   "cell_type": "markdown",
   "id": "214a92c8-1cf9-42b3-9d56-68363038cb45",
   "metadata": {},
   "source": [
    " Explain why with statement is used with open(). What is the advantage of using with statement and  open() together? \n"
   ]
  },
  {
   "cell_type": "markdown",
   "id": "2d2d00dc-416f-404b-bc6c-cef57914af61",
   "metadata": {},
   "source": [
    "Ans :  It ensures that the file is closed automatically once the code block inside the with statement has completed, regardless of any errors that may occur\n",
    "\n",
    "The advantage of using the with statement with the open() function is that it ensures that the file is always closed, even if an exception occurs. This is because the with statement is designed to automatically close the file object when the code execution leaves the with block, regardless of whether an exception is raised or not. This makes the code more readable, easier to write, and reduces the risk of errors that can occur due to file-related issues."
   ]
  },
  {
   "cell_type": "code",
   "execution_count": 21,
   "id": "c17d5728-82d1-428b-bfb2-aeaed35afb65",
   "metadata": {},
   "outputs": [
    {
     "name": "stdout",
     "output_type": "stream",
     "text": [
      "I want to become a Data Scientist\n"
     ]
    }
   ],
   "source": [
    "with open(\"new.txt\",'r') as f:\n",
    "    print(f.read())"
   ]
  },
  {
   "cell_type": "markdown",
   "id": "685b8a47-198d-4173-b5b7-589af7951111",
   "metadata": {},
   "source": [
    "## 6 Question"
   ]
  },
  {
   "cell_type": "markdown",
   "id": "2ce9ae75-d3eb-4bd4-91c5-0a7011f5b097",
   "metadata": {},
   "source": [
    "Explain the write() and writelines() functions. Give a suitable example."
   ]
  },
  {
   "cell_type": "markdown",
   "id": "f6e38a51-85cf-4a64-a92c-9ad98fc8c3a5",
   "metadata": {},
   "source": [
    "Ans: The write() function is used to write a single string to a file. It takes a string as an argument and writes that string to the file. \n",
    "The writelines() function is used to write a list of strings to a file. It takes an iterable (such as a list or tuple) of strings as an argument and writes each string to the file on a separate line. If the file does not exist, the function creates it. If it does exist, it overwrites the contents of the file with the new strings.\n"
   ]
  },
  {
   "cell_type": "code",
   "execution_count": 23,
   "id": "efa6f9ca-3264-44cd-83cf-a6740abdf7a8",
   "metadata": {},
   "outputs": [],
   "source": [
    "lines = ['This is the first.\\n', 'This is the second.\\n', 'This is the third.\\n']\n",
    "with open('new.txt', 'w') as f:\n",
    "    f.writelines(lines)"
   ]
  },
  {
   "cell_type": "code",
   "execution_count": null,
   "id": "fc869c85-b682-4010-828f-0c3d204b45ee",
   "metadata": {},
   "outputs": [],
   "source": []
  }
 ],
 "metadata": {
  "kernelspec": {
   "display_name": "Python 3 (ipykernel)",
   "language": "python",
   "name": "python3"
  },
  "language_info": {
   "codemirror_mode": {
    "name": "ipython",
    "version": 3
   },
   "file_extension": ".py",
   "mimetype": "text/x-python",
   "name": "python",
   "nbconvert_exporter": "python",
   "pygments_lexer": "ipython3",
   "version": "3.10.8"
  }
 },
 "nbformat": 4,
 "nbformat_minor": 5
}

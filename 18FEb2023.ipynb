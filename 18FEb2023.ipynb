{
 "cells": [
  {
   "cell_type": "markdown",
   "id": "651fd7bf-7726-43c3-9585-9bc67ebd418f",
   "metadata": {},
   "source": [
    "## 1 Question"
   ]
  },
  {
   "cell_type": "markdown",
   "id": "4c9af825-4d16-490b-8640-6ecd385e3601",
   "metadata": {},
   "source": [
    "What is an API? Give an example, where an API is used in real life."
   ]
  },
  {
   "cell_type": "markdown",
   "id": "814a5b10-bec3-4200-8dfd-edecaaddcd39",
   "metadata": {},
   "source": [
    "\n",
    "Ans: API : application programming interface. It is a set of protocols, routines, and tools that allows different software applications to communicate with each other.\n",
    "    API used in real life is google maps, Amazon Web services, various saas based products."
   ]
  },
  {
   "cell_type": "markdown",
   "id": "f113afb6-11c1-4e8a-877e-b0be67655506",
   "metadata": {},
   "source": [
    "## 2 Question"
   ]
  },
  {
   "cell_type": "markdown",
   "id": "1dcc1b56-8ee9-4934-97e8-de6d6ee4825d",
   "metadata": {},
   "source": [
    "Give advantages and disadvantages of using API."
   ]
  },
  {
   "cell_type": "markdown",
   "id": "77c69877-5df5-446e-8e44-1a297a6717e8",
   "metadata": {},
   "source": [
    "Ans: Advantages:\n",
    "\n",
    " 1.Flexibility: APIs provide developers with the flexibility to customize and extend the functionality of existing applications, platforms, or services.\n",
    "\n",
    "2.Reusability: APIs can be reused across multiple applications, platforms, and services, reducing development time and cost.\n",
    "\n",
    "3.Scalability: APIs can scale to accommodate increased demand and traffic, making them a good choice for applications with unpredictable traffic.\n",
    "\n",
    "DIsadvantages:\n",
    "\n",
    "1.Complexity: APIs can be complex and difficult to learn and use, especially for novice developers.\n",
    "\n",
    "2.Security: APIs can introduce security risks if not properly secured, authenticated, and authorized.\n",
    "\n",
    "3.Dependencies: APIs can create dependencies between applications and systems, which can lead to issues if the API changes or is deprecated."
   ]
  },
  {
   "cell_type": "markdown",
   "id": "03243919-4e0d-433c-83cb-fc2d93f48945",
   "metadata": {},
   "source": [
    "## 3 Question"
   ]
  },
  {
   "cell_type": "markdown",
   "id": "79639660-d53c-48b5-80ac-8ad954343951",
   "metadata": {},
   "source": [
    "What is a Web API? Differentiate between API and Web API."
   ]
  },
  {
   "cell_type": "markdown",
   "id": "ef0cf477-0a56-4a8b-b39b-a693a0385f80",
   "metadata": {},
   "source": [
    "Ans: A Web API web service api is an API that is designed specifically for use over the internet using the HTTP protocol. Web APIs are accessed using URLs and respond with data in formats such as JSON or XML, which can be easily processed by client-side code in web applications."
   ]
  },
  {
   "cell_type": "markdown",
   "id": "838430cb-0ed6-4bd2-a458-865b5658c76e",
   "metadata": {},
   "source": [
    "API, on the other hand, is a broader term that refers to any set of protocols, routines, and tools that allows software applications to interact with each other. APIs can be used for a variety of purposes, including communication between different software components within a single application, communication between different applications running on the same machine or network"
   ]
  },
  {
   "cell_type": "markdown",
   "id": "1fe9572e-5914-4251-915e-bb0ae5ede09b",
   "metadata": {},
   "source": [
    "The main difference between API and Web API is that Web APIs are designed specifically for use over the internet, while APIs can be used for a variety of purposes beyond the web. Additionally, Web APIs typically use the HTTP protocol and are accessed using URLs, while APIs can use a variety of protocols and mechanisms for communication."
   ]
  },
  {
   "cell_type": "markdown",
   "id": "591e83c1-738e-4772-8a39-5d56439679c2",
   "metadata": {},
   "source": [
    "## 4 Question"
   ]
  },
  {
   "cell_type": "markdown",
   "id": "735ccd91-f2e2-409c-b5b5-992c5f3364f1",
   "metadata": {},
   "source": [
    "Explain REST and SOAP Architecture. Mention shortcomings of SOAP."
   ]
  },
  {
   "cell_type": "markdown",
   "id": "dc042207-5936-4470-804e-375f6c843fb1",
   "metadata": {},
   "source": [
    "Ans : REST :Representational State Transfer and SOAP :Simple Object Access Protocol are two common architectural styles."
   ]
  },
  {
   "cell_type": "markdown",
   "id": "cd9668e8-8d53-475a-8d02-1e596c446a10",
   "metadata": {},
   "source": [
    "REST Architecture:\n",
    "REST is a client-server architecture that operates over HTTP, using standard HTTP methods (GET, POST, PUT, DELETE) to access resources on a server. It is designed to be lightweight and scalable, making it a popular choice for designing web APIs. RESTful APIs typically use URIs (Uniform Resource Identifiers) to identify resources, and use standard HTTP response codes to indicate success or failure."
   ]
  },
  {
   "cell_type": "markdown",
   "id": "bc03f52f-57e5-49b3-b787-7c7de6a568b3",
   "metadata": {},
   "source": [
    "SOAP Architecture:\n",
    "SOAP is a messaging protocol that uses XML (Extensible Markup Language) to encode data and operate over a variety of transport protocols, including HTTP, SMTP, and JMS. It is designed to be platform- and language-independent, making it a good choice for integrating disparate systems and applications. SOAP services typically use WSDL (Web Services Description Language) to describe the operations and messages of a service."
   ]
  },
  {
   "cell_type": "markdown",
   "id": "c9d9c330-4485-4d24-8d4d-eef395ad8496",
   "metadata": {},
   "source": [
    "Shortcomings of SOAP:"
   ]
  },
  {
   "cell_type": "markdown",
   "id": "7290f542-1a74-4b4a-a603-decbcbc14e71",
   "metadata": {},
   "source": [
    "1.Complexity: SOAP is a complex protocol that requires extensive XML parsing and processing, making it more difficult to use and maintain than REST.\n",
    "\n",
    "2.Overhead: SOAP messages can be larger than REST messages due to the use of XML, which can lead to increased network traffic and slower performance.\n",
    "\n",
    "3.Scalability: SOAP services can be less scalable than RESTful services due to the additional overhead and complexity of the protocol.\n",
    "\n",
    "4.Flexibility: SOAP services can be less flexible than RESTful services due to the rigid structure of SOAP messages and the lack of support for non-XML data formats."
   ]
  },
  {
   "cell_type": "markdown",
   "id": "edad4d00-ebaf-49ec-af86-8722bc2494d8",
   "metadata": {},
   "source": [
    "## 5 Question"
   ]
  },
  {
   "cell_type": "markdown",
   "id": "92586ef8-cd9a-4378-a25b-b214448da6b2",
   "metadata": {},
   "source": [
    "Differentiate between REST and SOAP."
   ]
  },
  {
   "cell_type": "markdown",
   "id": "aa450902-07e4-4474-bd20-ec7c2997be2d",
   "metadata": {},
   "source": [
    "Ans: \n",
    "1.Protocol: REST is a web service protocol that works over HTTP using standard HTTP methods (GET, POST, PUT, DELETE), while SOAP is a messaging protocol that can operate over various transport protocols, such as HTTP, SMTP, and JMS.\n",
    "\n",
    "2.Data Format: REST services use lightweight data formats like JSON or XML to transmit data, while SOAP services use XML to encode data.\n",
    "\n",
    "3.URI Structure: REST uses a URI structure to uniquely identify resources and uses standard HTTP verbs (GET, POST, PUT, DELETE) to perform CRUD (Create, Read, Update, Delete) operations on those resources. SOAP, on the other hand, uses WSDL to define a contract for a service and uses SOAP messages to perform operations.\n",
    "\n",
    "4.Overhead: REST services are lightweight and have minimal overhead, while SOAP services are more heavyweight due to the use of XML and the additional SOAP envelope and headers.\n",
    "\n",
    "5.Scalability: REST services are more scalable than SOAP services as they have a simpler architecture, and statelessness makes them more fault-tolerant.\n",
    "\n",
    "6.Caching: REST services are cacheable, while SOAP services are not. REST supports HTTP caching mechanisms to improve performance and scalability."
   ]
  }
 ],
 "metadata": {
  "kernelspec": {
   "display_name": "Python 3 (ipykernel)",
   "language": "python",
   "name": "python3"
  },
  "language_info": {
   "codemirror_mode": {
    "name": "ipython",
    "version": 3
   },
   "file_extension": ".py",
   "mimetype": "text/x-python",
   "name": "python",
   "nbconvert_exporter": "python",
   "pygments_lexer": "ipython3",
   "version": "3.10.8"
  }
 },
 "nbformat": 4,
 "nbformat_minor": 5
}

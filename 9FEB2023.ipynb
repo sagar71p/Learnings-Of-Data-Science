{
 "cells": [
  {
   "cell_type": "markdown",
   "id": "ab625df5-19dd-41f0-b489-447e85264f03",
   "metadata": {},
   "source": [
    "## 1 Question"
   ]
  },
  {
   "cell_type": "markdown",
   "id": "07c6e7c0-fcc0-4468-837b-df4663db17d0",
   "metadata": {},
   "source": [
    "Create a vehicle class with an init method having instance variables as name_of_vehicle, max_speed  and average_of_vehicle"
   ]
  },
  {
   "cell_type": "code",
   "execution_count": 16,
   "id": "2eb5321e-7164-49fa-b39d-eb118aacc876",
   "metadata": {},
   "outputs": [],
   "source": [
    "class vehicle :\n",
    "    def __init__(self,name_of_vehicle, max_speed,average_of_vehicle):\n",
    "        self.name_of_vehical = name_of_vehicle\n",
    "        self.max_speed = max_speed\n",
    "        self.average_of_vehicle = average_of_vehicle"
   ]
  },
  {
   "cell_type": "code",
   "execution_count": 5,
   "id": "6b24c46d-666f-40df-9ed0-4b31fcb42f79",
   "metadata": {},
   "outputs": [],
   "source": [
    "v = vehicle('car',250,150)"
   ]
  },
  {
   "cell_type": "code",
   "execution_count": 6,
   "id": "b010ad39-0559-461a-8906-83f19fa49d1d",
   "metadata": {},
   "outputs": [
    {
     "name": "stdout",
     "output_type": "stream",
     "text": [
      "car\n"
     ]
    }
   ],
   "source": [
    "print(v.name_of_vehical)"
   ]
  },
  {
   "cell_type": "code",
   "execution_count": 8,
   "id": "d3804b8b-f996-47e5-ad5c-4c4ac429a6d7",
   "metadata": {},
   "outputs": [
    {
     "name": "stdout",
     "output_type": "stream",
     "text": [
      "150\n"
     ]
    }
   ],
   "source": [
    "print(v.average_of_vehicle)"
   ]
  },
  {
   "cell_type": "markdown",
   "id": "e9201a86-ee59-4259-8489-f6387707e6c7",
   "metadata": {},
   "source": [
    "## 2 Question"
   ]
  },
  {
   "cell_type": "markdown",
   "id": "8f4c431d-5a97-4f04-8564-3f3fbf3fe040",
   "metadata": {},
   "source": [
    " Create a child class car from the vehicle class created in Que 1, which will inherit the vehicle class.  Create a method named seating_capacity which takes capacity as an argument and returns the name of  the vehicle and its seating capacity. \n"
   ]
  },
  {
   "cell_type": "code",
   "execution_count": 30,
   "id": "d4827e6b-163a-4fc4-9789-e5a23d089468",
   "metadata": {},
   "outputs": [],
   "source": [
    "class car(vehicle):\n",
    "    def __init__(self,name_of_vehicle, max_speed,average_of_vehicle):\n",
    "        super().__init__(name_of_vehicle, max_speed, average_of_vehicle)\n",
    "    \n",
    "    def seat_capacity(self, capacity):\n",
    "        return f\"{self.name_of_vehical} have a capacity of {capacity} people\""
   ]
  },
  {
   "cell_type": "code",
   "execution_count": 32,
   "id": "d80a5411-08b3-4c2e-a1c3-ff206607c074",
   "metadata": {},
   "outputs": [
    {
     "name": "stdout",
     "output_type": "stream",
     "text": [
      "BMW have a capacity of 7 people\n"
     ]
    }
   ],
   "source": [
    "p = car('BMW',250,150)\n",
    "print(p.seat_capacity(7))"
   ]
  },
  {
   "cell_type": "markdown",
   "id": "b6665b59-8f9b-4753-bc79-2c3a924905f5",
   "metadata": {},
   "source": [
    "## 3 Question"
   ]
  },
  {
   "cell_type": "markdown",
   "id": "244f78b8-cdc1-4ac7-9009-065220ebf800",
   "metadata": {},
   "source": [
    "What is multiple inheritance? Write a python code to demonstrate multiple inheritance. \n"
   ]
  },
  {
   "cell_type": "markdown",
   "id": "77aa8ed7-0fc8-4837-a4e1-6f7f28812d1d",
   "metadata": {},
   "source": [
    "Ans : multiple inheritance is feature of oops programming that allows the class to inherit from more then one parent class ,by this  child class can inherit attributes and method  from multiple parent class.\n"
   ]
  },
  {
   "cell_type": "code",
   "execution_count": 33,
   "id": "8ade1299-b6f3-47e4-8dcb-f6f115567d95",
   "metadata": {},
   "outputs": [],
   "source": [
    "class school:\n",
    "    def __init__(self,school_name):\n",
    "        self.school_name = school_name\n",
    "    \n",
    "    def stu_number(self):\n",
    "        pass\n"
   ]
  },
  {
   "cell_type": "code",
   "execution_count": 39,
   "id": "e12313bc-bfdf-4485-a41b-74199fba0058",
   "metadata": {},
   "outputs": [],
   "source": [
    "class size(school):\n",
    "    def __init__(self,school_name,size_no):\n",
    "        super().__init__(school_name)\n",
    "        self.size_no = size_no\n",
    "    def stu_number(self):\n",
    "        return self.size_no"
   ]
  },
  {
   "cell_type": "code",
   "execution_count": 47,
   "id": "67210838-d3f5-4913-a07e-743f696fe59c",
   "metadata": {},
   "outputs": [
    {
     "name": "stdout",
     "output_type": "stream",
     "text": [
      "mahesh\n"
     ]
    }
   ],
   "source": [
    "p = school('sargam')\n",
    "v = size('mahesh',250)\n",
    "print(v.school_name)"
   ]
  },
  {
   "cell_type": "markdown",
   "id": "dbed58dc-cb62-4230-a5c0-795d418bfcda",
   "metadata": {},
   "source": [
    "## 4 Question"
   ]
  },
  {
   "cell_type": "markdown",
   "id": "e7e86538-58b0-4315-9f71-8a11646c6c61",
   "metadata": {},
   "source": [
    " What are getter and setter in python? Create a class and create a getter and a setter method in this  class. "
   ]
  },
  {
   "cell_type": "markdown",
   "id": "342b6333-219d-4a64-8ad2-72c01da6705a",
   "metadata": {},
   "source": [
    "Ans: Getter and Setter methods are used to modify private attributes that are not modify directly from outside of the class for this getter and setter is used"
   ]
  },
  {
   "cell_type": "code",
   "execution_count": 66,
   "id": "1e91e8e5-8aaf-482a-9295-05d1256dfb15",
   "metadata": {},
   "outputs": [],
   "source": [
    "class details :\n",
    "    def __init__(self,members, age, gender):\n",
    "        self._members = members\n",
    "        self._age = age\n",
    "        self._gender = gender\n",
    "    def k_mem(self):\n",
    "        return self._members\n",
    "    def s_mem(self,members):\n",
    "        self._members = members\n",
    "    def k_age(self):\n",
    "        return self._age\n",
    "    def s_age(self,age):\n",
    "        self._age = age"
   ]
  },
  {
   "cell_type": "code",
   "execution_count": 69,
   "id": "b0736cbc-43a8-41ca-b626-de02b61ea884",
   "metadata": {},
   "outputs": [
    {
     "name": "stdout",
     "output_type": "stream",
     "text": [
      "5\n"
     ]
    }
   ],
   "source": [
    "v = details(5,25,'male')\n",
    "print(v.k_mem())"
   ]
  },
  {
   "cell_type": "code",
   "execution_count": 71,
   "id": "122ca071-42bf-4045-b837-fb91d8e47981",
   "metadata": {},
   "outputs": [],
   "source": [
    "v.s_mem(10)"
   ]
  },
  {
   "cell_type": "code",
   "execution_count": 72,
   "id": "cd400c48-5333-4c34-a3a5-0a70312f9613",
   "metadata": {},
   "outputs": [
    {
     "name": "stdout",
     "output_type": "stream",
     "text": [
      "10\n"
     ]
    }
   ],
   "source": [
    "print(v.k_mem())"
   ]
  },
  {
   "cell_type": "code",
   "execution_count": 73,
   "id": "f1fce5bf-b52a-4f90-b50e-b28b94298d57",
   "metadata": {},
   "outputs": [
    {
     "name": "stdout",
     "output_type": "stream",
     "text": [
      "25\n"
     ]
    }
   ],
   "source": [
    "print(v.k_age())"
   ]
  },
  {
   "cell_type": "code",
   "execution_count": 75,
   "id": "eec0ee6c-8ebf-4675-9a4d-46ed824d05d9",
   "metadata": {},
   "outputs": [
    {
     "name": "stdout",
     "output_type": "stream",
     "text": [
      "60\n"
     ]
    }
   ],
   "source": [
    "v.s_age(60)\n",
    "print(v.k_age())"
   ]
  },
  {
   "cell_type": "markdown",
   "id": "ce9123d1-5ca2-4d50-8524-83fa6a9f4a79",
   "metadata": {},
   "source": [
    "## 5 Question"
   ]
  },
  {
   "cell_type": "markdown",
   "id": "5c3f93b0-937a-4eb1-a549-366a92aaa71a",
   "metadata": {},
   "source": [
    "What is method overriding in python? Write a python code to demonstrate method overriding\n"
   ]
  },
  {
   "cell_type": "markdown",
   "id": "399d6738-bce2-4d3f-b40b-1adf68823117",
   "metadata": {},
   "source": [
    "Ans : overriding is occure when the child class provides its own implementation that are already provided in the parant class so child class overrides its method."
   ]
  },
  {
   "cell_type": "code",
   "execution_count": 88,
   "id": "6bf41529-b633-4731-a2fa-9fba5701fc3f",
   "metadata": {},
   "outputs": [],
   "source": [
    "class family :\n",
    "    def member(self):\n",
    "        print('this is sagar panchal')\n",
    "class fig(family):\n",
    "    def member(self):\n",
    "        print('this is my name')"
   ]
  },
  {
   "cell_type": "code",
   "execution_count": 91,
   "id": "349ce7ce-8631-4099-a622-d1265a287552",
   "metadata": {},
   "outputs": [
    {
     "name": "stdout",
     "output_type": "stream",
     "text": [
      "this is my name\n"
     ]
    }
   ],
   "source": [
    "v = fig()\n",
    "v.member()"
   ]
  },
  {
   "cell_type": "code",
   "execution_count": 93,
   "id": "c6169cf2-df03-45e0-956d-71a3602e6e0a",
   "metadata": {},
   "outputs": [
    {
     "name": "stdout",
     "output_type": "stream",
     "text": [
      "this is sagar panchal\n"
     ]
    }
   ],
   "source": [
    "v = family()\n",
    "v.member()"
   ]
  },
  {
   "cell_type": "code",
   "execution_count": null,
   "id": "9bb85294-2038-44a3-9252-56292f4309fc",
   "metadata": {},
   "outputs": [],
   "source": []
  }
 ],
 "metadata": {
  "kernelspec": {
   "display_name": "Python 3 (ipykernel)",
   "language": "python",
   "name": "python3"
  },
  "language_info": {
   "codemirror_mode": {
    "name": "ipython",
    "version": 3
   },
   "file_extension": ".py",
   "mimetype": "text/x-python",
   "name": "python",
   "nbconvert_exporter": "python",
   "pygments_lexer": "ipython3",
   "version": "3.10.8"
  }
 },
 "nbformat": 4,
 "nbformat_minor": 5
}

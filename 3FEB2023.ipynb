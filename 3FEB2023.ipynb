{
 "cells": [
  {
   "cell_type": "markdown",
   "id": "f228acaf-a4d4-4346-912e-c3c2652eccf9",
   "metadata": {},
   "source": [
    "## 1 Question\n"
   ]
  },
  {
   "cell_type": "markdown",
   "id": "fbc60a42-39f0-4dbf-ad02-787af6f6c675",
   "metadata": {},
   "source": [
    " Which keyword is used to create a function? Create a function to return a list of odd numbers in the  range of 1 to 25. \n"
   ]
  },
  {
   "cell_type": "markdown",
   "id": "c4387240-a722-4c81-820c-67f607493b52",
   "metadata": {},
   "source": [
    "Ans : \"def\" keyword is used to create function  in python"
   ]
  },
  {
   "cell_type": "code",
   "execution_count": 7,
   "id": "c339a998-18fd-48b5-ad49-40baa045b301",
   "metadata": {},
   "outputs": [
    {
     "name": "stdout",
     "output_type": "stream",
     "text": [
      "[1, 3, 5, 7, 9, 11, 13, 15, 17, 19, 21, 23]\n"
     ]
    }
   ],
   "source": [
    "def listsodd():\n",
    "    listsoddl = []\n",
    "    for i in range(1,25):\n",
    "        if i%2 != 0:\n",
    "            listsoddl.append(i)\n",
    "    return listsoddl\n",
    "print(listsodd())"
   ]
  },
  {
   "cell_type": "markdown",
   "id": "dc925617-01b6-4881-9348-3524527899cd",
   "metadata": {},
   "source": [
    "## 2 Question"
   ]
  },
  {
   "cell_type": "markdown",
   "id": "130a9eb0-4c42-44c7-8c24-ee27d78a681a",
   "metadata": {},
   "source": [
    " Why *args and **kwargs is used in some functions? Create a function each for *args and **kwargs to  demonstrate their use. "
   ]
  },
  {
   "cell_type": "markdown",
   "id": "66cecc70-7f1d-4082-84fd-28064cfe7f1b",
   "metadata": {},
   "source": [
    "Ans : *args and **kwargs is used to pass a variale number of arguments to a function. *args allows to pass a variable number of non-keyword arguments to a function and **kwargs allows to pass a variable number of keyword arguments."
   ]
  },
  {
   "cell_type": "markdown",
   "id": "9117c3c3-3a66-4858-8ece-576c085a7ecc",
   "metadata": {},
   "source": [
    "Example :"
   ]
  },
  {
   "cell_type": "code",
   "execution_count": 10,
   "id": "d2bafb54-6555-4092-bde4-a9a7e1f1669c",
   "metadata": {},
   "outputs": [
    {
     "name": "stdout",
     "output_type": "stream",
     "text": [
      "1 <function te1 at 0x7f3b6845f0a0>\n",
      "2 <function te1 at 0x7f3b6845f0a0>\n",
      "3 <function te1 at 0x7f3b6845f0a0>\n",
      "4 <function te1 at 0x7f3b6845f0a0>\n",
      "5 <function te1 at 0x7f3b6845f0a0>\n",
      "6 <function te1 at 0x7f3b6845f0a0>\n"
     ]
    }
   ],
   "source": [
    "def te1(*args):\n",
    "    for i in args:\n",
    "        print(i,te1)\n",
    "te1(1,2,3,4,5,6)"
   ]
  },
  {
   "cell_type": "code",
   "execution_count": 14,
   "id": "944de2a8-07c8-4e84-8f08-45e3e9dbee37",
   "metadata": {},
   "outputs": [
    {
     "name": "stdout",
     "output_type": "stream",
     "text": [
      "p # 1\n",
      "q # 2\n",
      "r # 3\n",
      "m # saga\n"
     ]
    }
   ],
   "source": [
    "def te2(**kwargs):\n",
    "    for key , value in kwargs.items():\n",
    "        print(key, \"#\" ,value)\n",
    "te2(p=1,q=2,r=3,m=\"saga\")"
   ]
  },
  {
   "cell_type": "markdown",
   "id": "498dd2a9-7902-47f0-b34a-f3e8758017a8",
   "metadata": {},
   "source": [
    "## 3 Question"
   ]
  },
  {
   "cell_type": "markdown",
   "id": "d6440d95-7ef5-4e5e-949f-c79805889a4a",
   "metadata": {},
   "source": [
    " What is an iterator in python? Name the method used to initialise the iterator object and the method  used for iteration. Use these methods to print the first five elements of the given list [2, 4, 6, 8, 10, 12, 14, 16,  18, 20]. \n"
   ]
  },
  {
   "cell_type": "markdown",
   "id": "ffa83d70-5697-415d-b240-b258f830709f",
   "metadata": {},
   "source": [
    "Ans : iterator in python is an object that can be iterated. to initialize iter() method is used and next() used to iterate through the elements"
   ]
  },
  {
   "cell_type": "code",
   "execution_count": 16,
   "id": "90a7b25c-30e0-49d4-867f-9f8661825213",
   "metadata": {},
   "outputs": [
    {
     "name": "stdout",
     "output_type": "stream",
     "text": [
      "2\n",
      "4\n",
      "6\n",
      "8\n",
      "10\n"
     ]
    }
   ],
   "source": [
    "lst = [2,4,6,8,10,12,14,16,20]\n",
    "ts = iter(lst)\n",
    "for i in range(5):\n",
    "    print(next(ts))"
   ]
  },
  {
   "cell_type": "markdown",
   "id": "1de9242c-12e2-4cae-81d1-beb3be47fac0",
   "metadata": {},
   "source": [
    "## 4 Question"
   ]
  },
  {
   "cell_type": "markdown",
   "id": "5a812dfb-dada-43e6-bbf8-a634f1d5f302",
   "metadata": {},
   "source": [
    "What is a generator function in python? Why yield keyword is used? Give an example of a generator  function. \n"
   ]
  },
  {
   "cell_type": "markdown",
   "id": "f676b202-3789-4679-a909-5e24b0938a08",
   "metadata": {},
   "source": [
    "Ans : Generator is special function that return a iterable object and using 'yeild' its generates sequence values one at one time."
   ]
  },
  {
   "cell_type": "code",
   "execution_count": 19,
   "id": "c38445aa-beb9-450c-98e5-5632651e6b11",
   "metadata": {},
   "outputs": [
    {
     "name": "stdout",
     "output_type": "stream",
     "text": [
      "1\n",
      "2\n",
      "3\n",
      "4\n",
      "5\n",
      "6\n",
      "7\n",
      "8\n",
      "9\n",
      "10\n"
     ]
    }
   ],
   "source": [
    "def tests(a,b):\n",
    "    while a<=b:\n",
    "        yield a\n",
    "        a +=1\n",
    "i = tests(1,10)\n",
    "for p in i :\n",
    "    print(p)"
   ]
  },
  {
   "cell_type": "markdown",
   "id": "956dce75-1873-40b4-9ceb-695bae9ec6ff",
   "metadata": {},
   "source": [
    "## 5 Question"
   ]
  },
  {
   "cell_type": "markdown",
   "id": "43336101-dbc2-477e-b032-0269e8d8752a",
   "metadata": {},
   "source": [
    "Create a generator function for prime numbers less than 1000. Use the next() method to print the  first 20 prime numbers. \n"
   ]
  },
  {
   "cell_type": "code",
   "execution_count": 37,
   "id": "911aa0a6-c7e3-4d4d-a352-89b32cf48f8a",
   "metadata": {},
   "outputs": [
    {
     "name": "stdout",
     "output_type": "stream",
     "text": [
      "2\n",
      "3\n",
      "5\n",
      "7\n",
      "11\n",
      "13\n",
      "17\n",
      "19\n",
      "23\n",
      "29\n",
      "31\n",
      "37\n",
      "41\n",
      "43\n",
      "47\n",
      "53\n",
      "59\n",
      "61\n",
      "67\n",
      "71\n"
     ]
    }
   ],
   "source": [
    "def prime_num(a):\n",
    "    for p in range(2, a):\n",
    "        for q in range(2, p):\n",
    "            if p % q == 0:\n",
    "                break\n",
    "        else:\n",
    "            yield p\n",
    "prime = prime_num(1000)\n",
    "for i in range(20):\n",
    "    print(next(prime))\n"
   ]
  },
  {
   "cell_type": "code",
   "execution_count": null,
   "id": "f047da22-0e48-47d2-b3e4-0a4811843f67",
   "metadata": {},
   "outputs": [],
   "source": []
  }
 ],
 "metadata": {
  "kernelspec": {
   "display_name": "Python 3 (ipykernel)",
   "language": "python",
   "name": "python3"
  },
  "language_info": {
   "codemirror_mode": {
    "name": "ipython",
    "version": 3
   },
   "file_extension": ".py",
   "mimetype": "text/x-python",
   "name": "python",
   "nbconvert_exporter": "python",
   "pygments_lexer": "ipython3",
   "version": "3.10.8"
  }
 },
 "nbformat": 4,
 "nbformat_minor": 5
}

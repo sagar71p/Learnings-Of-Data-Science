{
 "cells": [
  {
   "cell_type": "markdown",
   "id": "ac706d0b-dc86-4774-8752-7c2d19b954cc",
   "metadata": {},
   "source": [
    "## 1 Question"
   ]
  },
  {
   "cell_type": "markdown",
   "id": "945292ce-22b6-409b-a83d-e8a0b4998760",
   "metadata": {},
   "source": [
    "What are the characteristics of the tuples? Is tuple immutable?"
   ]
  },
  {
   "cell_type": "markdown",
   "id": "275a02ef-cadb-40b9-bf04-af52267f0e74",
   "metadata": {},
   "source": [
    "Ans : Tuple items are ordered, not changeable, and allow same values. \n",
    "Tuple is not mutable."
   ]
  },
  {
   "cell_type": "markdown",
   "id": "6f696356-1dfb-4bc3-a75e-c5c1ed148a89",
   "metadata": {},
   "source": [
    "## 2 question"
   ]
  },
  {
   "cell_type": "markdown",
   "id": "879151b2-8829-4d56-a38b-47f00f4b5a93",
   "metadata": {},
   "source": [
    " What are the two tuple methods in python? Give an example of each method. Give a reason why  tuples have only two in-built methods as compared to Lists. \n"
   ]
  },
  {
   "cell_type": "markdown",
   "id": "bc266f67-f57a-4c81-8c83-396847b8f415",
   "metadata": {},
   "source": [
    "Ans: 1.count(), 2.index()\n",
    "count(): Return the number of time a specified value appears in the tuple.\n",
    "index(): Returns the index of the first occurrence of a specified value in the tuple"
   ]
  },
  {
   "cell_type": "code",
   "execution_count": 6,
   "id": "d777e508-af18-458d-95fa-7c5766fc8920",
   "metadata": {},
   "outputs": [
    {
     "name": "stdout",
     "output_type": "stream",
     "text": [
      "3\n"
     ]
    }
   ],
   "source": [
    "##Example\n",
    "numbers = (1, 3, 3, 4, 7, 3, 1)\n",
    "print(numbers.count(3))  \n"
   ]
  },
  {
   "cell_type": "code",
   "execution_count": 9,
   "id": "9cf79eba-0cc8-45e9-bcf4-35650f21ae15",
   "metadata": {},
   "outputs": [
    {
     "name": "stdout",
     "output_type": "stream",
     "text": [
      "5\n"
     ]
    }
   ],
   "source": [
    "##Example\n",
    "numbers = (1, 6, 2, 4, 5, 9, 10)\n",
    "print(numbers.index(9))"
   ]
  },
  {
   "cell_type": "markdown",
   "id": "43903663-0bbb-468e-a12c-12fee3b161bc",
   "metadata": {},
   "source": [
    "Tuples have only two in-built methods compared to lists because tuples are immutable, means that their contents cannot be changed after they are created. the content of tuples cannot be changed, there is no more need for methods that modify the contents of the tuple, hence, tuples only have a few in-built method."
   ]
  },
  {
   "cell_type": "markdown",
   "id": "6305a0c0-d1e0-4978-bb33-5afe27fc9bdf",
   "metadata": {},
   "source": [
    "## 3 Question"
   ]
  },
  {
   "cell_type": "markdown",
   "id": "b0444b31-0fd1-43ec-b0a4-d08add0bab36",
   "metadata": {},
   "source": [
    "Which collection datatypes in python do not allow duplicate items? Write a code using a set to remove  duplicates from the given list. \n",
    "List = [1, 1, 1, 2, 1, 3, 1, 4, 2, 1, 2, 2, 2, 3, 2, 4, 3, 1, 3, 2, 3, 3, 3, 4, 4, 1, 4, 2, 4, 3, 4, 4] \n"
   ]
  },
  {
   "cell_type": "code",
   "execution_count": null,
   "id": "025bda59-8475-44c8-b3c6-7dfbaa5f6c80",
   "metadata": {},
   "outputs": [],
   "source": [
    "set() is collection datatypes function which dont alow duplicate items."
   ]
  },
  {
   "cell_type": "code",
   "execution_count": 22,
   "id": "cc5d846a-45c4-4dfa-9b4e-a1cea15033f4",
   "metadata": {},
   "outputs": [
    {
     "name": "stdout",
     "output_type": "stream",
     "text": [
      "[{1, 2, 3, 4}]\n"
     ]
    }
   ],
   "source": [
    "lists = [1, 1, 1, 2, 1, 3, 1, 4, 2, 1, 2, 2, 2, 3, 2, 4, 3, 1, 3, 2, 3, 3, 3, 4, 4, 1, 4, 2, 4, 3, 4, 4]\n",
    "Filter_items = [set(lists)]\n",
    "print(Filter_items)"
   ]
  },
  {
   "cell_type": "markdown",
   "id": "f0dba309-4378-416a-9b15-7c34ba56cd06",
   "metadata": {},
   "source": [
    "## 4 Question"
   ]
  },
  {
   "cell_type": "markdown",
   "id": "6eb148d8-35f4-40f0-9a43-8c2d2f9b2acd",
   "metadata": {},
   "source": [
    " Explain the difference between the union() and update() methods for a set. Give an example of  each method. \n"
   ]
  },
  {
   "cell_type": "markdown",
   "id": "f74741ba-8e7b-4502-81b5-692d1fac44b7",
   "metadata": {},
   "source": [
    "Ans :union() method returns a new set that contains all the elements from both sets, without any duplicates. The original sets is unchanged and new ste is created.\n"
   ]
  },
  {
   "cell_type": "code",
   "execution_count": 24,
   "id": "c663d6f4-5943-4a59-814c-10186c830143",
   "metadata": {},
   "outputs": [
    {
     "name": "stdout",
     "output_type": "stream",
     "text": [
      "{0, 1, 2, 3, 4, 5, 6, 7, 8, 9}\n"
     ]
    }
   ],
   "source": [
    "##example\n",
    "set1={1,2,3,4,5,6}\n",
    "set2={6,7,8,9,0}\n",
    "set3=set1.union(set2)\n",
    "print(set3)"
   ]
  },
  {
   "cell_type": "markdown",
   "id": "06867662-fd4d-4d0a-bab0-af7a902d8c6c",
   "metadata": {},
   "source": [
    "update() method returns a updated sets which have all elements from both sets without any duplicates. Original sets changed and updated."
   ]
  },
  {
   "cell_type": "code",
   "execution_count": 26,
   "id": "15cc6ce3-70a3-468a-8abb-76275f7850f7",
   "metadata": {},
   "outputs": [
    {
     "name": "stdout",
     "output_type": "stream",
     "text": [
      "{0, 1, 2, 3, 4, 5, 6, 7, 8, 9}\n"
     ]
    }
   ],
   "source": [
    "##Example\n",
    "set1={1,2,3,4,5,6}\n",
    "set2={6,7,8,9,0}\n",
    "set2.update(set1)\n",
    "print(set2)"
   ]
  },
  {
   "cell_type": "markdown",
   "id": "feb6e25e-7dec-4323-9efc-ce886614972b",
   "metadata": {},
   "source": [
    "## 5 Question"
   ]
  },
  {
   "cell_type": "markdown",
   "id": "309c8bcb-cc79-4c82-9327-d57016e6e37d",
   "metadata": {},
   "source": [
    "What is a dictionary? Give an example. Also, state whether a dictionary is ordered or unordered"
   ]
  },
  {
   "cell_type": "markdown",
   "id": "686aff54-a9ec-4e37-8023-fe4bc1030ff4",
   "metadata": {},
   "source": [
    "Ans: A dictionary is a collection of key-value pairs, where each key is unique. "
   ]
  },
  {
   "cell_type": "code",
   "execution_count": 36,
   "id": "a52ff59d-d1e0-4032-8263-9a5ccec81973",
   "metadata": {},
   "outputs": [
    {
     "name": "stdout",
     "output_type": "stream",
     "text": [
      "panchal\n"
     ]
    }
   ],
   "source": [
    "sp_dic = {'sagar':'panchal','mahesh':'kumar','number': 987654321}\n",
    "print(sp_dic['sagar'])"
   ]
  },
  {
   "cell_type": "markdown",
   "id": "aea5cc50-2fa2-4c0b-8fac-c0fc11fdf7f9",
   "metadata": {},
   "source": [
    "Dictionary is unordered collection because it cant assigend index and we dont call any key by index insted of  this we have to write keys to call the values. "
   ]
  },
  {
   "cell_type": "markdown",
   "id": "896aca82-dea9-4845-b52d-d3df74b9f620",
   "metadata": {},
   "source": [
    "## 6 Question"
   ]
  },
  {
   "cell_type": "markdown",
   "id": "7bc1ce4f-cadb-4680-8f71-a21960d2425c",
   "metadata": {},
   "source": [
    "Can we create a nested dictionary? If so, please give an example by creating a simple one-level  nested dictionary. \n"
   ]
  },
  {
   "cell_type": "markdown",
   "id": "c1d52260-53e8-4b7a-8079-0b13f320c725",
   "metadata": {},
   "source": [
    "Ans : YES ,we can create a nested dictionary in python.\n",
    "example"
   ]
  },
  {
   "cell_type": "code",
   "execution_count": 2,
   "id": "493be0d5-9a47-4f74-941a-0e0aa062a0ce",
   "metadata": {},
   "outputs": [],
   "source": [
    "dic1 = {'details':{'panchal' , 'sagar', 96244, 'ahmedabad'}}"
   ]
  },
  {
   "cell_type": "code",
   "execution_count": 4,
   "id": "eb601813-9100-49ce-86d7-e644c47ca1e1",
   "metadata": {},
   "outputs": [
    {
     "data": {
      "text/plain": [
       "{96244, 'ahmedabad', 'panchal', 'sagar'}"
      ]
     },
     "execution_count": 4,
     "metadata": {},
     "output_type": "execute_result"
    }
   ],
   "source": [
    "dic1['details']"
   ]
  },
  {
   "cell_type": "markdown",
   "id": "10d081bb-d677-407a-a88c-3a50b4c2f081",
   "metadata": {},
   "source": [
    "## 7 Question"
   ]
  },
  {
   "cell_type": "markdown",
   "id": "0ceefa41-59e0-4d02-a7d6-86cdd0ff9dea",
   "metadata": {},
   "source": [
    "Using setdefault() method, create key named topics in the given dictionary and also add the value of  the key as this list ['Python', 'Machine Learning’, 'Deep Learning'] \n"
   ]
  },
  {
   "cell_type": "markdown",
   "id": "e8ae44cc-a2cf-426c-8b2a-c41ab6864c9b",
   "metadata": {},
   "source": [
    "Ans:"
   ]
  },
  {
   "cell_type": "code",
   "execution_count": 12,
   "id": "77f88f70-8c81-429e-a6de-00001e54d20f",
   "metadata": {},
   "outputs": [
    {
     "name": "stdout",
     "output_type": "stream",
     "text": [
      "{'topics': ['Python', 'Machine Learning', 'Deep Learning']}\n"
     ]
    }
   ],
   "source": [
    "s = {}\n",
    "s.setdefault(\"topics\", []).extend([\"Python\",\"Machine Learning\",\"Deep Learning\"])\n",
    "print(s)                              "
   ]
  },
  {
   "cell_type": "markdown",
   "id": "44fa09d5-5936-4fa3-8d24-257c03eb1c35",
   "metadata": {},
   "source": [
    "## 8 Question"
   ]
  },
  {
   "cell_type": "markdown",
   "id": "09b7d2f7-b029-4283-82c1-6dedf9d5efc3",
   "metadata": {},
   "source": [
    "What are the three view objects in dictionaries? Use the three in-built methods in python to display  these three view objects for the given dictionary. \n",
    "dict1 = {'Sport': 'Cricket' , 'Teams': ['India', 'Australia', 'England', 'South Africa', 'Sri Lanka', 'New Zealand']} \n"
   ]
  },
  {
   "cell_type": "markdown",
   "id": "55d43d80-5e09-4ce2-b6b3-7abf726688ed",
   "metadata": {},
   "source": [
    "Ans : keys() - returns a list of all the keys in the dictionary.\n",
    "values() - returns a list of all the values in the dictionary.\n",
    "items() - returns a list of all the key-value pairs in the dictionary."
   ]
  },
  {
   "cell_type": "code",
   "execution_count": 14,
   "id": "7e924c61-a8c9-46ef-a2cf-dae6aabc20e0",
   "metadata": {},
   "outputs": [
    {
     "name": "stdout",
     "output_type": "stream",
     "text": [
      "dict_keys(['Sport', 'Teams'])\n"
     ]
    }
   ],
   "source": [
    "dict1 = {'Sport': 'Cricket' , 'Teams': ['India', 'Australia', 'England', 'South Africa', 'Sri Lanka', 'New Zealand']} \n",
    "k=dict1.keys()\n",
    "print(k)"
   ]
  },
  {
   "cell_type": "code",
   "execution_count": null,
   "id": "cb23ec62-b2dc-4f00-bf61-24b9169033ce",
   "metadata": {},
   "outputs": [],
   "source": []
  }
 ],
 "metadata": {
  "kernelspec": {
   "display_name": "Python 3 (ipykernel)",
   "language": "python",
   "name": "python3"
  },
  "language_info": {
   "codemirror_mode": {
    "name": "ipython",
    "version": 3
   },
   "file_extension": ".py",
   "mimetype": "text/x-python",
   "name": "python",
   "nbconvert_exporter": "python",
   "pygments_lexer": "ipython3",
   "version": "3.10.8"
  }
 },
 "nbformat": 4,
 "nbformat_minor": 5
}

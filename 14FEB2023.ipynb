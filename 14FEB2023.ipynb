{
 "cells": [
  {
   "cell_type": "markdown",
   "id": "8dcdf441-a586-437d-9e31-dff43d45cd7f",
   "metadata": {},
   "source": [
    "## 1 Question"
   ]
  },
  {
   "cell_type": "markdown",
   "id": "e141602e-b981-4587-8ba5-536b22204922",
   "metadata": {},
   "source": [
    "what is multithreading in python? why is it used? Name the module used to handle threads in python"
   ]
  },
  {
   "cell_type": "markdown",
   "id": "3d9f3873-d059-4eb2-8c05-d5218f19d6a5",
   "metadata": {},
   "source": [
    "Ans: Multithreading in Python refers to the ability of a program to run multiple threads of execution concurrently. A thread is a separate flow of execution within a program, and multithreading allows a program to perform multiple tasks at the same time. In other words, multithreading allows a program to be more efficient by utilizing multiple CPU cores and performing multiple tasks in parallel"
   ]
  },
  {
   "cell_type": "markdown",
   "id": "7194a9e2-fa9a-4d3f-89f4-c6658df7df90",
   "metadata": {},
   "source": [
    "In Python, the threading module is used to handle threads."
   ]
  },
  {
   "cell_type": "markdown",
   "id": "f3773c5d-2a7a-4fbf-8c80-4df953729edc",
   "metadata": {},
   "source": [
    "## 2 Question"
   ]
  },
  {
   "cell_type": "markdown",
   "id": "59901b59-d8ba-4009-82b5-50020afdab8d",
   "metadata": {},
   "source": [
    "why threading module used? write the use of the following functions\n",
    "1.activeCount\n",
    "2.currentThread\n",
    "3.enumerate"
   ]
  },
  {
   "cell_type": "markdown",
   "id": "fc691f5e-e49d-4ec1-9663-3858a683da42",
   "metadata": {},
   "source": [
    "Ans: The threading module in Python is used to create and manage threads. It provides a way to create threads, start and stop threads, synchronize access to shared resources, and communicate between threads.\n",
    "\n",
    "1.activeCount(): This function is used to get the number of thread objects that are currently alive. This can be useful for monitoring the state of a program and for ensuring that all threads have finished before the program exits."
   ]
  },
  {
   "cell_type": "markdown",
   "id": "467cfd16-3b5c-4fa9-b496-cac019dfafba",
   "metadata": {},
   "source": [
    "2.currentThread(): This function is used to get a reference to the current thread object. This can be useful for identifying the current thread and for synchronizing access to shared resources."
   ]
  },
  {
   "cell_type": "markdown",
   "id": "ffe80e40-5b41-4c46-aab3-06f443a714ce",
   "metadata": {},
   "source": [
    "3.enumerate(): This function is used to get a list of all thread objects that are currently alive. This can be useful for monitoring the state of a program and for ensuring that all threads have finished before the program exits."
   ]
  },
  {
   "cell_type": "markdown",
   "id": "f5ede55d-5627-48f0-b3f2-0f52ae737492",
   "metadata": {},
   "source": [
    "## 3 Question\n"
   ]
  },
  {
   "cell_type": "markdown",
   "id": "ca375a5c-b6ff-45a8-bc72-7060e11a75e3",
   "metadata": {},
   "source": [
    "Explain the following functions\n",
    "1.run()\n",
    "2.start()\n",
    "3.join()\n",
    "4.isAlive()"
   ]
  },
  {
   "cell_type": "markdown",
   "id": "c483c7bb-438a-434e-849e-2a09fe58ae44",
   "metadata": {},
   "source": [
    "Ans: \n",
    "1.run(): This is a method of the Thread class, and it is called when a thread is started using the start() method. It is used to define the behavior of the thread. The run() method can be overridden in a subclass of the Thread class to define the specific behavior of the thread.\n",
    "python"
   ]
  },
  {
   "cell_type": "markdown",
   "id": "11637a80-6512-438d-8717-bbc7e927bc15",
   "metadata": {},
   "source": [
    "2.start(): This is a method of the Thread class, and it is used to start a thread. When the start() method is called, the thread's run() method is called and the thread begins executing."
   ]
  },
  {
   "cell_type": "code",
   "execution_count": 1,
   "id": "745e6e72-ab7d-40c3-b88a-e54f4fe3ad54",
   "metadata": {},
   "outputs": [
    {
     "name": "stdout",
     "output_type": "stream",
     "text": [
      "Thread started\n",
      "Thread finished\n"
     ]
    }
   ],
   "source": [
    "import threading\n",
    "\n",
    "def worker():\n",
    "    print(\"Thread started\")\n",
    "    print(\"Thread finished\")\n",
    "\n",
    "t = threading.Thread(target=worker)\n",
    "t.start()\n"
   ]
  },
  {
   "cell_type": "markdown",
   "id": "a4decc5a-4380-4d17-a661-cd5efe167b8d",
   "metadata": {},
   "source": [
    "3.join(): This is a method of the Thread class, and it is used to wait for a thread to finish. When the join() method is called on a thread, the calling thread is blocked until the target thread finishes. This is useful for ensuring that all threads have finished before the program exits."
   ]
  },
  {
   "cell_type": "code",
   "execution_count": 3,
   "id": "fdaaec5d-44bf-46c1-abff-b62417d82785",
   "metadata": {},
   "outputs": [
    {
     "name": "stdout",
     "output_type": "stream",
     "text": [
      "Thread started\n",
      "Thread finished\n",
      "All threads finished\n"
     ]
    }
   ],
   "source": [
    "import threading\n",
    "\n",
    "def worker():\n",
    "    print(\"Thread started\")\n",
    "    print(\"Thread finished\")\n",
    "\n",
    "t = threading.Thread(target=worker)\n",
    "t.start()\n",
    "t.join()\n",
    "print(\"All threads finished\")"
   ]
  },
  {
   "cell_type": "markdown",
   "id": "e999488b-30b1-4751-aa35-1042dad2033c",
   "metadata": {},
   "source": [
    "4.isAlive(): This is a method of the Thread class, and it is used to check whether a thread is alive or not. When the isAlive() method is called on a thread, it returns True if the thread is still running, and False if the thread has finished.\n",
    "python\n"
   ]
  },
  {
   "cell_type": "markdown",
   "id": "aeeeb0e4-c8c2-4f55-b90b-efe756f0eac2",
   "metadata": {},
   "source": [
    "## 4 Question"
   ]
  },
  {
   "cell_type": "markdown",
   "id": "64cd6a6b-1f8a-497d-b2d9-f28ccbcd92a8",
   "metadata": {},
   "source": [
    "write a python program to create two threads. Thread one must print the list of squares and thread\n",
    "two must print the list of cubes"
   ]
  },
  {
   "cell_type": "code",
   "execution_count": 6,
   "id": "12806dd8-6d92-4e09-b1d7-0c595cfedf97",
   "metadata": {},
   "outputs": [
    {
     "name": "stdout",
     "output_type": "stream",
     "text": [
      "Squares: [0, 1, 4, 9, 16, 25, 36, 49, 64, 81, 100]\n",
      "Cubes: [0, 1, 8, 27, 64, 125, 216, 343, 512, 729, 1000]\n",
      "Done\n"
     ]
    }
   ],
   "source": [
    "import threading\n",
    "\n",
    "def p_squares(n):\n",
    "    squares = [x**2 for x in range(n+1)]\n",
    "    print(\"Squares:\", squares)\n",
    "\n",
    "def p_cubes(n):\n",
    "    cubes = [x**3 for x in range(n+1)]\n",
    "    print(\"Cubes:\", cubes)\n",
    "\n",
    "t1 = threading.Thread(target=p_squares, args=(10,))\n",
    "t2 = threading.Thread(target=p_cubes, args=(10,))\n",
    "\n",
    "t1.start()\n",
    "t2.start()\n",
    "\n",
    "t1.join()\n",
    "t2.join()\n",
    "\n",
    "print(\"Done\")\n"
   ]
  },
  {
   "cell_type": "markdown",
   "id": "43e19a90-afd1-4ad8-8ccf-57962355d6eb",
   "metadata": {},
   "source": [
    "## 5 Question"
   ]
  },
  {
   "cell_type": "markdown",
   "id": "193cdf5a-8f13-4384-b760-178f84c81025",
   "metadata": {},
   "source": [
    "State advantages and disadvantages of multithreading"
   ]
  },
  {
   "cell_type": "markdown",
   "id": "b5539e5a-3d7a-49af-880f-4f7c04215d17",
   "metadata": {},
   "source": [
    "Ans: Advantages of Multithreading:\n",
    "\n",
    "1.Improved performance: Multithreading can improve the performance of programs that perform I/O or have long-running computations by allowing multiple threads to execute in parallel. This can result in faster response times and increased throughput.\n",
    "\n",
    "2.Responsiveness: Multithreading allows a program to remain responsive even when performing lengthy computations or I/O operations. By executing these operations in a separate thread, the main thread can continue to handle user input and other tasks without being blocked.\n",
    "\n",
    "3.Better resource utilization: By allowing multiple threads to execute concurrently, a program can better utilize the available resources and make better use of idle time.\n",
    "\n",
    "4.Simplified design: Multithreading can simplify the design of some programs by allowing them to be broken up into smaller, more manageable pieces that can be executed concurrently.\n",
    "\n",
    "Disadvantages of Multithreading:\n",
    "\n",
    "1.Complexity: Multithreaded programs are often more complex than single-threaded programs, as they can require careful synchronization and coordination to ensure that threads do not interfere with each other or access shared resources in an unsafe way.\n",
    "\n",
    "2.Difficult to debug: Multithreaded programs can be difficult to debug, as race conditions and other concurrency-related issues can be hard to reproduce and diagnose.\n",
    "\n",
    "3.Increased memory usage: Multithreaded programs can use more memory than single-threaded programs, as each thread requires its own stack and other resources.\n",
    "\n",
    "4.Thread starvation: In some cases, a poorly-designed multithreaded program can result in certain threads being starved of resources or unable to make progress.\n",
    "\n"
   ]
  },
  {
   "cell_type": "markdown",
   "id": "3343c577-4531-4b76-814e-2e04b2fb58fb",
   "metadata": {},
   "source": [
    "## 6 Question"
   ]
  },
  {
   "cell_type": "markdown",
   "id": "de939bd7-0b8d-498c-b76c-73273e3463dd",
   "metadata": {},
   "source": [
    "Explain deadlocks and race conditions."
   ]
  },
  {
   "cell_type": "markdown",
   "id": "e5da1cda-57a7-4b63-a8e7-4aec6be8a4c3",
   "metadata": {},
   "source": [
    "Ans: \n",
    "    Deadlocks and race conditions are two types of concurrency issues that can occur in multithreaded programs.\n",
    "\n",
    "Deadlocks occur when two or more threads are blocked waiting for each other to release a resource that they are holding. This can happen when two threads each hold a resource that the other needs to continue, and neither thread can proceed until the other releases its resource."
   ]
  },
  {
   "cell_type": "markdown",
   "id": "6ed92a13-48cd-4b29-a952-6d543aea56b1",
   "metadata": {},
   "source": [
    "Race conditions occur when two or more threads access a shared resource in an unsafe way, leading to unexpected or incorrect behavior. Race conditions can occur when threads access a resource simultaneously without proper synchronization, leading to inconsistent or corrupted data. "
   ]
  }
 ],
 "metadata": {
  "kernelspec": {
   "display_name": "Python 3 (ipykernel)",
   "language": "python",
   "name": "python3"
  },
  "language_info": {
   "codemirror_mode": {
    "name": "ipython",
    "version": 3
   },
   "file_extension": ".py",
   "mimetype": "text/x-python",
   "name": "python",
   "nbconvert_exporter": "python",
   "pygments_lexer": "ipython3",
   "version": "3.10.8"
  }
 },
 "nbformat": 4,
 "nbformat_minor": 5
}

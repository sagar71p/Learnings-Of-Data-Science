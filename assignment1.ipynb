{
 "cells": [
  {
   "cell_type": "code",
   "execution_count": 1,
   "id": "98c22a93-d645-4370-abfb-53d8209055dd",
   "metadata": {},
   "outputs": [],
   "source": [
    "##asignment 1 answers"
   ]
  },
  {
   "cell_type": "raw",
   "id": "4e5e3e57-25ed-4589-9ef5-b6a62a0be4ee",
   "metadata": {},
   "source": [
    "1.Guido van Rossum\n",
    "2.Object-oriented programming and structured programming \n",
    "3.yes\n",
    "4.py\n",
    "5.interpreted\n",
    "6.loops, \n",
    "7.#\n",
    "8.python\n",
    "9.lambda\n",
    "10.preferred installer program\n",
    "11.bin(),type(),list[],sum()\n",
    "12.79 character\n",
    "13.easy to use, do not need to define every identifire or varialbles,very widly used\n",
    "14.internal use,non-object memory,Python object such as int\n",
    "15."
   ]
  },
  {
   "cell_type": "code",
   "execution_count": null,
   "id": "99102805-e6d9-4553-9812-de1b625169ba",
   "metadata": {},
   "outputs": [],
   "source": []
  }
 ],
 "metadata": {
  "kernelspec": {
   "display_name": "Python 3 (ipykernel)",
   "language": "python",
   "name": "python3"
  },
  "language_info": {
   "codemirror_mode": {
    "name": "ipython",
    "version": 3
   },
   "file_extension": ".py",
   "mimetype": "text/x-python",
   "name": "python",
   "nbconvert_exporter": "python",
   "pygments_lexer": "ipython3",
   "version": "3.10.8"
  }
 },
 "nbformat": 4,
 "nbformat_minor": 5
}

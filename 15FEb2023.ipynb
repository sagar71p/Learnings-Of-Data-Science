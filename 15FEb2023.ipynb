{
 "cells": [
  {
   "cell_type": "markdown",
   "id": "cabf4d69-0101-4c1c-8cf4-b79e115dd45f",
   "metadata": {},
   "source": [
    "## 1 Question"
   ]
  },
  {
   "cell_type": "markdown",
   "id": "e648413f-c65b-4f3d-958a-53a1e496b922",
   "metadata": {},
   "source": [
    "What is multiprocessing in python? Why is it useful?\n"
   ]
  },
  {
   "cell_type": "markdown",
   "id": "55abc216-8f27-41f3-b546-700370ff1fa4",
   "metadata": {},
   "source": [
    "Ans: Multiprocessing in Python is a way to utilize multiple processors or cores of a computer to execute multiple tasks simultaneously. It allows a Python program to run in parallel, with multiple processes executing independent tasks at the same time, which can help improve performance and efficiency.\n",
    "\n",
    "Python's multiprocessing module provides a set of classes and functions that allow you to spawn processes, communicate between them, and synchronize their execution. we can create processes by calling the Process() function and passing in the target function to execute in the new process.\n",
    "\n",
    "1.Improved performance: By executing multiple processes simultaneously,can make better use of the available CPU resources, which can help speed up the execution of your program.\n",
    "\n",
    "2.Simplified parallel programming: Multiprocessing makes it easier to write parallel program.\n",
    "\n",
    "3.fault tolerance: If one process fails or encounters an error, other processes can continue to run unaffected, which can help ensure that your program remains operational.\n"
   ]
  },
  {
   "cell_type": "markdown",
   "id": "a4d54d8a-0a9f-46d9-803a-095408186642",
   "metadata": {},
   "source": [
    "## 2 Question"
   ]
  },
  {
   "cell_type": "markdown",
   "id": "f4c48d6c-f27d-4262-af6d-c45dc2fd9552",
   "metadata": {},
   "source": [
    "What are the differences between multiprocessing and multithreading?"
   ]
  },
  {
   "cell_type": "markdown",
   "id": "03a66fb7-d1c8-45e9-a507-5b42960d0927",
   "metadata": {},
   "source": [
    "Multiprocessing and multithreading are both techniques used for achieving parallelism in a program, the difference  is:\n",
    "\n",
    "1.Concurrency: Multithreading is a way to achieve concurrency within a single process. In contrast, multiprocessing is a way to achieve parallelism by running multiple processes simultaneously.\n",
    "\n",
    "2.Memory space: in multi threading they can easily access and modify each other's data. In contrast, each process created by multiprocessing has its own memory space and cannot directly access data from other processes.\n",
    "\n",
    "3.CPU resources: Multithreading runs on a single CPU core and shares the CPU time between the threads, whereas multiprocessing can run on multiple CPU cores simultaneously, with each process using a separate core.\n",
    "\n",
    "4.Overhead: Multithreading has less overhead than multiprocessing because it does not require the creation of a new process and associated overhead, such as context switching, process creation and termination, and inter-process communication.\n",
    "\n",
    "5.Robustness: Because each thread shares the same memory space, multithreading is more prone to concurrency bugs such as race conditions and deadlocks. Multiprocessing, on the other hand, is more robust since each process has its own memory space.\n",
    "\n",
    "In summary, multithreading is best suited for I/O-bound tasks where the threads are waiting for external resources like network requests or disk I/O. Multiprocessing is better suited for CPU-bound tasks where the processes are running computations that can benefit from parallelism."
   ]
  },
  {
   "cell_type": "markdown",
   "id": "6e4b60d3-4ceb-4768-b1d2-8d29395c342d",
   "metadata": {},
   "source": [
    "## 3 Question"
   ]
  },
  {
   "cell_type": "markdown",
   "id": "a88ad58c-b88f-4acc-b666-6f2da4418d4e",
   "metadata": {},
   "source": [
    "Write a python code to create a process using the multiprocessing module."
   ]
  },
  {
   "cell_type": "code",
   "execution_count": 2,
   "id": "2c4a7606-dc2c-4946-b337-7ff4a82b731e",
   "metadata": {},
   "outputs": [
    {
     "name": "stdout",
     "output_type": "stream",
     "text": [
      "Hello, world!\n"
     ]
    }
   ],
   "source": [
    "import multiprocessing\n",
    "\n",
    "def p_func(name):\n",
    "    print(\"Hello, {}!\".format(name))\n",
    "\n",
    "if __name__ == '__main__':\n",
    "    p = multiprocessing.Process(target=p_func, args=('world',))\n",
    "\n",
    "    p.start()\n",
    "    p.join()\n"
   ]
  },
  {
   "cell_type": "markdown",
   "id": "634a4d60-b7a2-452a-9ebd-c8181217a7f4",
   "metadata": {},
   "source": [
    "## 4 Question"
   ]
  },
  {
   "cell_type": "markdown",
   "id": "750d325d-aea8-4664-a4b4-fa5438f63c89",
   "metadata": {},
   "source": [
    "What is a multiprocessing pool in python? Why is it used?"
   ]
  },
  {
   "cell_type": "markdown",
   "id": "3f53a988-7a2a-4aab-b468-989359bb94a9",
   "metadata": {},
   "source": [
    "ANs: A multiprocessing pool in Python is a convenient way to parallelize the execution of a function over a large set of inputs. It allows you to create a pool of worker processes that can execute the function on different inputs simultaneously, thereby improving the performance and efficiency of the program.\n",
    "\n",
    "The multiprocessing module provides the Pool class, which allows you to create a fixed number of worker processes and assign them tasks. The basic workflow involves creating a pool, submitting tasks to the pool, and then waiting for the results. The pool takes care of distributing the tasks among the worker processes and collecting the results"
   ]
  },
  {
   "cell_type": "code",
   "execution_count": 5,
   "id": "4213e6aa-9297-4245-bb52-c7c6ba0e8b45",
   "metadata": {},
   "outputs": [
    {
     "name": "stdout",
     "output_type": "stream",
     "text": [
      "[1, 4, 9, 16, 25]\n"
     ]
    }
   ],
   "source": [
    "import multiprocessing\n",
    "\n",
    "def square(x):\n",
    "    return x**2\n",
    "\n",
    "if __name__ == '__main__':\n",
    "    \n",
    "    with multiprocessing.Pool(processes=4) as d:\n",
    "        \n",
    "        inputs = [1, 2, 3, 4, 5]\n",
    "        \n",
    "        results = d.map(square, inputs)\n",
    "        \n",
    "        print(results)\n"
   ]
  },
  {
   "cell_type": "markdown",
   "id": "530066d7-43cc-405b-a1bc-38757baafb79",
   "metadata": {},
   "source": [
    "## 5 Question"
   ]
  },
  {
   "cell_type": "markdown",
   "id": "46fb8825-1331-44ef-a6ec-02f78a507a13",
   "metadata": {},
   "source": [
    "How can we create a pool of worker processes in python using the multiprocessing module?"
   ]
  },
  {
   "cell_type": "code",
   "execution_count": 9,
   "id": "b31e5c57-0697-441d-a615-6ab4a7125e0d",
   "metadata": {},
   "outputs": [
    {
     "name": "stdout",
     "output_type": "stream",
     "text": [
      "[1, 4, 9, 16, 25, 36, 49, 64, 81]\n"
     ]
    }
   ],
   "source": [
    "import multiprocessing\n",
    "\n",
    "def func(x):\n",
    "    return x**2\n",
    "\n",
    "if __name__ == '__main__':\n",
    "    with multiprocessing.Pool(processes=4) as pool:\n",
    "        inputs = [1, 2, 3, 4, 5,6,7,8,9]\n",
    "        results = pool.map(func, inputs)\n",
    "        print(results)\n"
   ]
  },
  {
   "cell_type": "markdown",
   "id": "e0206c64-a440-41fa-a510-bf960d333ae1",
   "metadata": {},
   "source": [
    "## 6 Question"
   ]
  },
  {
   "cell_type": "markdown",
   "id": "9384cb92-7fc6-49c6-a7c5-0570b7a47608",
   "metadata": {},
   "source": [
    "Write a python program to create 4 processes, each process should print a different number using the\n",
    "multiprocessing module in python."
   ]
  },
  {
   "cell_type": "code",
   "execution_count": 13,
   "id": "6f910b5e-58bf-4eba-8919-01787eb3fd4f",
   "metadata": {},
   "outputs": [
    {
     "name": "stdout",
     "output_type": "stream",
     "text": [
      "Process Process-54ProcessProcess-55 printed\n",
      "  1 Processprinted\n",
      "\n",
      "  2Process-56\n",
      " Processprinted\n",
      "  Process-573 \n",
      "printed\n",
      " 4\n"
     ]
    }
   ],
   "source": [
    "import multiprocessing\n",
    "\n",
    "def pri_n(num):\n",
    "    print(\"Process\", multiprocessing.current_process().name, \"printed\\n\", num)\n",
    "\n",
    "if __name__ == '__main__':\n",
    "    numbers = [1, 2, 3, 4]\n",
    "    processes = []\n",
    "    for num in numbers:\n",
    "        process = multiprocessing.Process(target=pri_n, args=(num,))\n",
    "        processes.append(process)\n",
    "        process.start()\n",
    "    for process in processes:\n",
    "        process.join()\n"
   ]
  },
  {
   "cell_type": "code",
   "execution_count": null,
   "id": "b29738d4-3c3d-4c7b-a56e-c45ccefbd07b",
   "metadata": {},
   "outputs": [],
   "source": []
  }
 ],
 "metadata": {
  "kernelspec": {
   "display_name": "Python 3 (ipykernel)",
   "language": "python",
   "name": "python3"
  },
  "language_info": {
   "codemirror_mode": {
    "name": "ipython",
    "version": 3
   },
   "file_extension": ".py",
   "mimetype": "text/x-python",
   "name": "python",
   "nbconvert_exporter": "python",
   "pygments_lexer": "ipython3",
   "version": "3.10.8"
  }
 },
 "nbformat": 4,
 "nbformat_minor": 5
}

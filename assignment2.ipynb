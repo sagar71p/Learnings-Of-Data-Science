{
 "cells": [
  {
   "cell_type": "code",
   "execution_count": 1,
   "id": "c44da792-cfe8-4ece-b509-37b80a53820b",
   "metadata": {},
   "outputs": [],
   "source": [
    "##asignment date 30/12/2023"
   ]
  },
  {
   "cell_type": "raw",
   "id": "e956ccfc-6711-4eb0-8670-aa02991221aa",
   "metadata": {},
   "source": [
    "## question 1\n",
    "1. Write a program to accept percentage from the user and display the grade according to the following \n",
    "criteria: \n",
    "Marks \n",
    "Grade \n",
    ">90 \n",
    "A \n",
    ">80 and <=90 \n",
    "B \n",
    ">=60 and <=80 \n",
    "C \n",
    "below 60 \n",
    "D \n"
   ]
  },
  {
   "cell_type": "code",
   "execution_count": 12,
   "id": "87b79889-a9e4-463b-b4e1-eaa365622f05",
   "metadata": {},
   "outputs": [
    {
     "name": "stdout",
     "output_type": "stream",
     "text": [
      "enter percantage = \n"
     ]
    },
    {
     "name": "stdin",
     "output_type": "stream",
     "text": [
      " 90\n"
     ]
    },
    {
     "name": "stdout",
     "output_type": "stream",
     "text": [
      "B\n"
     ]
    }
   ],
   "source": [
    "##code\n",
    "print('enter percantage = ')\n",
    "i=int(input())\n",
    "if i>90 :\n",
    "    print(\"A\")\n",
    "elif i>80 and i<=90 :\n",
    "    print(\"B\")\n",
    "elif i>60 and i<=80 :\n",
    "    print(\"C\")\n",
    "else :\n",
    "    print(\"D\")\n",
    "\n"
   ]
  },
  {
   "cell_type": "code",
   "execution_count": null,
   "id": "2f1cdb40-9efd-4ea5-a36e-572cf9cd2ae7",
   "metadata": {},
   "outputs": [],
   "source": [
    " ##2 question\n",
    "    2.Write a program to accept the cost price of a bike and display the road tax to be paid according to the \n",
    "following criteria: \n",
    "\n"
   ]
  },
  {
   "cell_type": "code",
   "execution_count": 14,
   "id": "09020799-d238-46a0-90bf-c881aced4434",
   "metadata": {},
   "outputs": [
    {
     "name": "stdout",
     "output_type": "stream",
     "text": [
      "enter the cost price of bike = \n"
     ]
    },
    {
     "name": "stdin",
     "output_type": "stream",
     "text": [
      " 5000\n"
     ]
    },
    {
     "name": "stdout",
     "output_type": "stream",
     "text": [
      "tax = 250.0\n"
     ]
    }
   ],
   "source": [
    "##code\n",
    "print('enter the cost price of bike = ')\n",
    "i=int(input())\n",
    "if i>100000 :\n",
    "    print(\"tax = {}\".format(i*0.15))\n",
    "elif i>50000 and i<=100000 :\n",
    "    print(\"tax = {}\".format(i*0.10))\n",
    "else :\n",
    "    print(\"tax = {}\".format(i*0.05))"
   ]
  },
  {
   "cell_type": "markdown",
   "id": "c77af6a6-37bd-4037-b43f-f7fcbdb60761",
   "metadata": {},
   "source": [
    "## 3 question\n",
    "3. Accept any city from the user and display monuments of that city. \n",
    "City \n",
    "Delhi \n",
    "Monument \n",
    "Red Fort \n",
    "Taj Mahal \n",
    "Agra \n",
    "Jaipur \n",
    "Jal Mahal \n"
   ]
  },
  {
   "cell_type": "code",
   "execution_count": 21,
   "id": "8d54126f-830d-480a-99f3-619e68ca93cd",
   "metadata": {},
   "outputs": [
    {
     "name": "stdout",
     "output_type": "stream",
     "text": [
      "type any city from delhi ,agra and jaipur\n"
     ]
    },
    {
     "name": "stdin",
     "output_type": "stream",
     "text": [
      " delhi\n"
     ]
    },
    {
     "name": "stdout",
     "output_type": "stream",
     "text": [
      "red fort\n"
     ]
    }
   ],
   "source": [
    "print('type any city from delhi ,agra and jaipur')\n",
    "i=input()\n",
    "if i==\"delhi\" :\n",
    "    print('red fort')\n",
    "elif i==\"agra\" :\n",
    "    print('taj mahal')\n",
    "elif i==\"jaipur\" :\n",
    "    print('jal mahal')\n",
    "else :\n",
    "    print('invalid')\n",
    "    "
   ]
  },
  {
   "cell_type": "markdown",
   "id": "1564f7ac-ec04-4a64-8a9e-9c09e5d37623",
   "metadata": {},
   "source": [
    "## 4 question\n",
    "4 Check how many times a given number can be divided by 3 before it is less than or equal to 10. \n"
   ]
  },
  {
   "cell_type": "code",
   "execution_count": 32,
   "id": "074af637-5f44-4cb1-9ffb-5855fe2f0f31",
   "metadata": {},
   "outputs": [
    {
     "name": "stdout",
     "output_type": "stream",
     "text": [
      "type number greater then 10\n"
     ]
    },
    {
     "name": "stdin",
     "output_type": "stream",
     "text": [
      " 1000000000\n"
     ]
    },
    {
     "name": "stdout",
     "output_type": "stream",
     "text": [
      "count_no. = 17\n"
     ]
    }
   ],
   "source": [
    "print('type number greater then 10')\n",
    "i=int(input())\n",
    "count=0\n",
    "while i>10 :\n",
    "    v=i/3\n",
    "    i=v\n",
    "    count += 1\n",
    "print('count_no. = {}'.format(count))"
   ]
  },
  {
   "cell_type": "markdown",
   "id": "442b0a36-eec6-4cfd-85f5-af1b01b0510e",
   "metadata": {},
   "source": [
    "##5 question\n",
    "4.Why and When to Use while Loop in Python give a detailed description with example?\n",
    "\n",
    "The while loop in Python is used to execute a block of code repeatedly until a certain condition is met. The code block is executed repeatedly as long as the condition is true.\n"
   ]
  },
  {
   "cell_type": "code",
   "execution_count": 33,
   "id": "0c9b8d0b-2ff4-477d-b2b1-68576ade3b34",
   "metadata": {},
   "outputs": [],
   "source": [
    "#example"
   ]
  },
  {
   "cell_type": "code",
   "execution_count": 36,
   "id": "d32178b3-b9e5-4ffd-a505-23b0dc343d36",
   "metadata": {},
   "outputs": [
    {
     "name": "stdout",
     "output_type": "stream",
     "text": [
      "The count: 0\n",
      "The count: 1\n",
      "The count: 2\n",
      "The count: 3\n",
      "The count: 4\n",
      "The count: 5\n",
      "The count: 6\n",
      "The count: 7\n",
      "The count: 8\n",
      "The count: 9\n",
      "End\n"
     ]
    }
   ],
   "source": [
    "count = 0\n",
    "\n",
    "while count < 10:\n",
    "    print(\"The count:\", count)\n",
    "    count += 1\n",
    "\n",
    "print(\"End\")\n"
   ]
  },
  {
   "cell_type": "raw",
   "id": "f3a4a7f2-fce2-4d2b-b77b-fbca64129576",
   "metadata": {},
   "source": [
    "##6 question\n",
    "Use nested while loop to print 3 different pattern."
   ]
  },
  {
   "cell_type": "code",
   "execution_count": 38,
   "id": "b749f583-52f5-4a27-a8a8-ab69af5165fd",
   "metadata": {},
   "outputs": [],
   "source": [
    "##patern 1"
   ]
  },
  {
   "cell_type": "code",
   "execution_count": 15,
   "id": "7f325dcb-6385-470f-bf3c-5097abd3f439",
   "metadata": {},
   "outputs": [
    {
     "name": "stdout",
     "output_type": "stream",
     "text": [
      "@@@@@\n",
      "@@@@\n",
      "@@@\n",
      "@@\n",
      "@\n"
     ]
    }
   ],
   "source": [
    "\n",
    "i=0\n",
    "count=0\n",
    "j=0\n",
    "p=5\n",
    "rows = 5\n",
    "while i != rows :\n",
    "    while j!=p : \n",
    "        print(\"@\",end=\"\")\n",
    "        j=j+1\n",
    "    count=count+1\n",
    "    i=i+1\n",
    "    j=0\n",
    "    j=j+count\n",
    "    print('\\r')    \n",
    "\n",
    "    "
   ]
  },
  {
   "cell_type": "code",
   "execution_count": null,
   "id": "ddfa1cfc-4612-48e2-8739-5593028c8177",
   "metadata": {},
   "outputs": [],
   "source": [
    "##pattern 2"
   ]
  },
  {
   "cell_type": "code",
   "execution_count": 26,
   "id": "424d7f65-755b-4e20-b33d-90402a20455c",
   "metadata": {},
   "outputs": [
    {
     "name": "stdout",
     "output_type": "stream",
     "text": [
      "@\n",
      "@@\n",
      "@@@\n",
      "@@@@\n",
      "@@@@@\n"
     ]
    }
   ],
   "source": [
    "l=[1,2,3,4,5]\n",
    "p=0\n",
    "i=0\n",
    "j=0\n",
    "while i<5:\n",
    "    while j !=int(l[p]):\n",
    "        print(\"@\",end=\"\")\n",
    "        j=j+1\n",
    "    p=p+1\n",
    "    i=i+1\n",
    "    j=0\n",
    "    print('\\r') "
   ]
  },
  {
   "cell_type": "code",
   "execution_count": 24,
   "id": "1c79a173-ede7-4a95-b17c-aec5128776ca",
   "metadata": {},
   "outputs": [],
   "source": [
    "##pattern 3"
   ]
  },
  {
   "cell_type": "code",
   "execution_count": 3,
   "id": "b1e98197-1046-48d2-ada0-1762da55ded3",
   "metadata": {},
   "outputs": [
    {
     "name": "stdout",
     "output_type": "stream",
     "text": [
      "  @\n",
      "  @  @  @\n",
      "  @  @  @  @  @\n",
      "  @  @  @  @  @  @  @\n",
      "  @  @  @  @  @  @  @  @  @\n"
     ]
    }
   ],
   "source": [
    "l=[1,3,5,7,9]\n",
    "p=0\n",
    "i=0\n",
    "j=0\n",
    "while i<5:\n",
    "    while j !=int(l[p]):\n",
    "        for s in range(0,2) :\n",
    "            print(\" \",end=\"\")\n",
    "        print(\"@\",end=\"\")\n",
    "        j=j+1\n",
    "    p=p+1\n",
    "    i=i+1\n",
    "    j=0\n",
    "    print('\\r') "
   ]
  },
  {
   "cell_type": "markdown",
   "id": "869f4066-4f0f-4597-8811-b827984cfc03",
   "metadata": {},
   "source": [
    "## 7 question"
   ]
  },
  {
   "cell_type": "markdown",
   "id": "4972dd7e-8ddb-4c91-94f4-2c2298483f1b",
   "metadata": {},
   "source": [
    "Revere while loop to display 10 to 1"
   ]
  },
  {
   "cell_type": "code",
   "execution_count": 6,
   "id": "86e299dc-9326-4017-89e4-12f8c8c0d203",
   "metadata": {},
   "outputs": [
    {
     "ename": "SyntaxError",
     "evalue": "expected ':' (2850856438.py, line 3)",
     "output_type": "error",
     "traceback": [
      "\u001b[0;36m  Cell \u001b[0;32mIn[6], line 3\u001b[0;36m\u001b[0m\n\u001b[0;31m    while i!= 11\u001b[0m\n\u001b[0m                ^\u001b[0m\n\u001b[0;31mSyntaxError\u001b[0m\u001b[0;31m:\u001b[0m expected ':'\n"
     ]
    }
   ],
   "source": [
    "i=0\n",
    "p=11\n",
    "while i!=11:\n",
    "    print(\" {} \".format(p=p-1))i=i+1"
   ]
  },
  {
   "cell_type": "code",
   "execution_count": null,
   "id": "f0316119-92eb-456e-919f-dad4f40ded63",
   "metadata": {},
   "outputs": [],
   "source": []
  }
 ],
 "metadata": {
  "kernelspec": {
   "display_name": "Python 3 (ipykernel)",
   "language": "python",
   "name": "python3"
  },
  "language_info": {
   "codemirror_mode": {
    "name": "ipython",
    "version": 3
   },
   "file_extension": ".py",
   "mimetype": "text/x-python",
   "name": "python",
   "nbconvert_exporter": "python",
   "pygments_lexer": "ipython3",
   "version": "3.10.8"
  }
 },
 "nbformat": 4,
 "nbformat_minor": 5
}
